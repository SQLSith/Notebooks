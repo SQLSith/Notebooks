{
    "metadata": {
        "kernelspec": {
            "name": "SQL",
            "display_name": "SQL",
            "language": "sql"
        },
        "language_info": {
            "name": "sql",
            "version": ""
        }
    },
    "nbformat_minor": 2,
    "nbformat": 4,
    "cells": [
        {
            "cell_type": "markdown",
            "source": [
                "![Alt text](<Images/Bulltech.jpg>)\n",
                "\n",
                "# SQL Lessons\n",
                "\n",
                "1. [Introducing SQL](.\\1.Introducing_SQL.ipynb)\n",
                "2. [SELECTing Data](.\\2.SELECTing_Data.ipynb)\n",
                "\n",
                "\n",
                ""
            ],
            "metadata": {
                "azdata_cell_guid": "2e87b507-d020-4763-b52a-e22b2b1f7c16"
            },
            "attachments": {}
        }
    ]
}