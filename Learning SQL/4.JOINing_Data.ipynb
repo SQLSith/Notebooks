{
    "metadata": {
        "kernelspec": {
            "name": "SQL",
            "display_name": "SQL",
            "language": "sql"
        },
        "language_info": {
            "name": "sql",
            "version": ""
        }
    },
    "nbformat_minor": 2,
    "nbformat": 4,
    "cells": [
        {
            "cell_type": "markdown",
            "source": [
                "![Bulltech Solutions](.\\Images\\Bulltech.jpg)"
            ],
            "metadata": {
                "azdata_cell_guid": "28035cce-512a-4b44-9e1a-71ea71a38dda"
            },
            "attachments": {}
        },
        {
            "cell_type": "markdown",
            "source": [
                "# JOINing Data\n",
                "\n",
                "SQL Server is a Relational Database Engine, meaning that it is designed to store and process data with known relationships. Whilst in some cases it may be possible to store all the data you need in a single table, sometimes is is neither possible or advisable to do so. Thankfully this does not mean that you are restricted in data that you can include in your queries, it just means that you may need to join tables together to retrieve all the data you need.\n",
                "\n",
                "There are 5 basic join types, of which the first 2 are the most commonly used:\n",
                "\n",
                "- Inner Joins - This is the default\n",
                "- Left Outer Join\n",
                "- Right Outer Join\n",
                "- Full Outer Join\n",
                "- Cross join\n",
                "\n",
                "With all join types you will use a variant of the JOIN clause, as demonstrated in the following sections."
            ],
            "metadata": {
                "azdata_cell_guid": "ded26cdf-1e38-4b9e-81c3-105c46dc603d"
            },
            "attachments": {}
        },
        {
            "cell_type": "markdown",
            "source": [
                "#  Exercises\r\n",
                "\r\n",
                "The following exercises demonstrate the basics of joining data in an interactive way. Use the ![Bulltech Solutions](.\\Images\\Expand.jpg) icon at the bottom of each code block to expand the block and review the code.\r\n",
                "\r\n",
                "## Data Preparation\r\n",
                "\r\n",
                "To execute the following examples, you will need to connect to a SQL Server instance and execute the following data preparation script. You may not understand all of the syntax, but for now just execute this code, it will be explained in a future lesson. "
            ],
            "metadata": {
                "azdata_cell_guid": "c4ec4027-fc44-443c-a106-50f10757e41d"
            },
            "attachments": {}
        },
        {
            "cell_type": "code",
            "source": [
                "Set nocount ON\r\n",
                "go\r\n",
                "\r\n",
                "-- Drop tables if they already exist\r\n",
                "\r\n",
                "\tif exists (Select * from information_Schema.tables where TABLE_NAME = 'Car' and TABLE_SCHEMA = 'dbo')\r\n",
                "\tbegin\r\n",
                "\t\tdrop table dbo.Car\r\n",
                "\tend \r\n",
                "\tgo\r\n",
                "\r\n",
                "\tif exists (Select * from information_Schema.tables where TABLE_NAME = 'Colour' and TABLE_SCHEMA = 'dbo')\r\n",
                "\tbegin\r\n",
                "\t\tdrop table dbo.Colour\r\n",
                "\tend \r\n",
                "\tgo\r\n",
                "\r\n",
                "-- Create colour table\r\n",
                "\r\n",
                "\tCreate table dbo.Colour \r\n",
                "\t(\r\n",
                "\tColourId int identity(1,1),\r\n",
                "\tColour varchar(20)\r\n",
                "\t)\r\n",
                "\tgo\r\n",
                "\r\n",
                "\tinsert\tdbo.Colour Values ('Red')\r\n",
                "\tinsert\tdbo.Colour Values ('White')\r\n",
                "\tinsert\tdbo.Colour Values ('Black')\r\n",
                "\tinsert\tdbo.Colour Values ('Blue')\r\n",
                "\tinsert\tdbo.Colour Values ('Green')\r\n",
                "\tinsert\tdbo.Colour Values ('Silver')\r\n",
                "\tgo\r\n",
                "\r\n",
                "\r\n",
                "-- Create Car table\r\n",
                "\r\n",
                "\tCreate table dbo.Car\r\n",
                "\t(\r\n",
                "\tCarId\t\t\tint identity(1,1),\r\n",
                "\tRegistration\tvarchar(15),\r\n",
                "\tColourId\t\tint,\r\n",
                "\tNumberOfDoors\ttinyint\r\n",
                "\t)\r\n",
                "\tgo\r\n",
                "\r\n",
                "\t-- Initially populate a table variable with cars, which can be joined to the colour table to pick up colourID\r\n",
                "\r\n",
                "\tDeclare @Car table\r\n",
                "\t(\r\n",
                "\tCarId\t\t\tint,\r\n",
                "\tRegistration\tvarchar(15),\r\n",
                "\tColour\t\t\tvarchar(20),\r\n",
                "\tNumberOfDoors\ttinyint\r\n",
                "\t)\r\n",
                "\t;\r\n",
                "\r\n",
                "\r\n",
                "\tINSERT INTO @Car (CarId, Registration, Colour, NumberOfDoors) VALUES (1, N'HW83 8UH', N'Red', 4)\r\n",
                "\tINSERT INTO @Car (CarId, Registration, Colour, NumberOfDoors) VALUES (2, N'SL31 5UB', N'Blue', 2)\r\n",
                "\tINSERT INTO @Car (CarId, Registration, Colour, NumberOfDoors) VALUES (3, N'GA66 4RY', N'Blue', 2)\r\n",
                "\tINSERT INTO @Car (CarId, Registration, Colour, NumberOfDoors) VALUES (4, N'CR74 4YK', Null, 4)\r\n",
                "\tINSERT INTO @Car (CarId, Registration, Colour, NumberOfDoors) VALUES (5, N'NP50 4QJ', N'Red', 4)\r\n",
                "\tINSERT INTO @Car (CarId, Registration, Colour, NumberOfDoors) VALUES (6, N'LS79 6TU', N'Green', 2)\r\n",
                "\tINSERT INTO @Car (CarId, Registration, Colour, NumberOfDoors) VALUES (7, N'JV24 8SD', N'Silver', 4)\r\n",
                "\tINSERT INTO @Car (CarId, Registration, Colour, NumberOfDoors) VALUES (8, N'YW32 3XE', N'White', 2)\r\n",
                "\tINSERT INTO @Car (CarId, Registration, Colour, NumberOfDoors) VALUES (9, N'HF71 3LT', N'Green', 4)\r\n",
                "\tINSERT INTO @Car (CarId, Registration, Colour, NumberOfDoors) VALUES (10, N'KV82 0HD', Null, 4)\r\n",
                "\tINSERT INTO @Car (CarId, Registration, Colour, NumberOfDoors) VALUES (11, N'VU30 1SJ', N'Silver', 2)\r\n",
                "\tINSERT INTO @Car (CarId, Registration, Colour, NumberOfDoors) VALUES (12, N'XT03 3WU', N'Silver', 4)\r\n",
                "\tINSERT INTO @Car (CarId, Registration, Colour, NumberOfDoors) VALUES (13, N'FG19 7FP', N'Silver', 2)\r\n",
                "\tINSERT INTO @Car (CarId, Registration, Colour, NumberOfDoors) VALUES (14, N'CV90 5RJ', N'White', 2)\r\n",
                "\tINSERT INTO @Car (CarId, Registration, Colour, NumberOfDoors) VALUES (15, N'VH46 1FB', N'Blue', 2)\r\n",
                "\tINSERT INTO @Car (CarId, Registration, Colour, NumberOfDoors) VALUES (16, N'DK73 9HK', Null, 2)\r\n",
                "\tINSERT INTO @Car (CarId, Registration, Colour, NumberOfDoors) VALUES (17, N'FL43 8LG', N'Silver', 2)\r\n",
                "\tINSERT INTO @Car (CarId, Registration, Colour, NumberOfDoors) VALUES (18, N'RY58 8RS', N'Silver', 4)\r\n",
                "\tINSERT INTO @Car (CarId, Registration, Colour, NumberOfDoors) VALUES (19, N'XK81 7PY', N'Blue', 4)\r\n",
                "\tINSERT INTO @Car (CarId, Registration, Colour, NumberOfDoors) VALUES (20, N'DJ32 0PS', N'Blue', 2)\r\n",
                "\tINSERT INTO @Car (CarId, Registration, Colour, NumberOfDoors) VALUES (21, N'JY26 7BS', Null, 4)\r\n",
                "\tINSERT INTO @Car (CarId, Registration, Colour, NumberOfDoors) VALUES (22, N'YP08 4RC', N'Red', 2)\r\n",
                "\tINSERT INTO @Car (CarId, Registration, Colour, NumberOfDoors) VALUES (23, N'KW71 4TL', N'White', 4)\r\n",
                "\tINSERT INTO @Car (CarId, Registration, Colour, NumberOfDoors) VALUES (24, N'EX84 5KD', N'Green', 4)\r\n",
                "\tINSERT INTO @Car (CarId, Registration, Colour, NumberOfDoors) VALUES (25, N'AP37 7RQ', Null, 4)\r\n",
                "\tINSERT INTO @Car (CarId, Registration, Colour, NumberOfDoors) VALUES (26, N'TW57 4JY', Null, 4)\r\n",
                "\tINSERT INTO @Car (CarId, Registration, Colour, NumberOfDoors) VALUES (27, N'KT17 8NB', N'Blue', 4)\r\n",
                "\tINSERT INTO @Car (CarId, Registration, Colour, NumberOfDoors) VALUES (28, N'UR92 1UB', Null, 4)\r\n",
                "\tINSERT INTO @Car (CarId, Registration, Colour, NumberOfDoors) VALUES (29, N'JV78 3PS', N'Red', 2)\r\n",
                "\tINSERT INTO @Car (CarId, Registration, Colour, NumberOfDoors) VALUES (30, N'WS68 6WW', N'Green', 4)\r\n",
                "\tINSERT INTO @Car (CarId, Registration, Colour, NumberOfDoors) VALUES (31, N'BK77 0QG', N'Red', 4)\r\n",
                "\tINSERT INTO @Car (CarId, Registration, Colour, NumberOfDoors) VALUES (32, N'HN90 0AX', Null, 4)\r\n",
                "\tINSERT INTO @Car (CarId, Registration, Colour, NumberOfDoors) VALUES (33, N'YX60 5BT', N'Silver', 2)\r\n",
                "\tINSERT INTO @Car (CarId, Registration, Colour, NumberOfDoors) VALUES (34, N'NJ38 9SA', N'Silver', 2)\r\n",
                "\tINSERT INTO @Car (CarId, Registration, Colour, NumberOfDoors) VALUES (35, N'QG09 2WQ', N'Blue', 4)\r\n",
                "\tINSERT INTO @Car (CarId, Registration, Colour, NumberOfDoors) VALUES (36, N'LU12 6QD', N'Blue', 4)\r\n",
                "\tINSERT INTO @Car (CarId, Registration, Colour, NumberOfDoors) VALUES (37, N'MQ42 5SP', N'Green', 4)\r\n",
                "\tINSERT INTO @Car (CarId, Registration, Colour, NumberOfDoors) VALUES (38, N'YX57 3XJ', Null, 2)\r\n",
                "\tINSERT INTO @Car (CarId, Registration, Colour, NumberOfDoors) VALUES (39, N'AD01 6TL', N'Green', 2)\r\n",
                "\tINSERT INTO @Car (CarId, Registration, Colour, NumberOfDoors) VALUES (40, N'TE16 9CF', Null, 4)\r\n",
                "\tINSERT INTO @Car (CarId, Registration, Colour, NumberOfDoors) VALUES (41, N'LK32 2SD', N'Red', 2)\r\n",
                "\tINSERT INTO @Car (CarId, Registration, Colour, NumberOfDoors) VALUES (42, N'QK84 2NV', N'White', 4)\r\n",
                "\tINSERT INTO @Car (CarId, Registration, Colour, NumberOfDoors) VALUES (43, N'UX03 2PQ', N'Silver', 2)\r\n",
                "\tINSERT INTO @Car (CarId, Registration, Colour, NumberOfDoors) VALUES (44, N'UD52 2NC', N'Blue', 4)\r\n",
                "\tINSERT INTO @Car (CarId, Registration, Colour, NumberOfDoors) VALUES (45, N'HF19 3FG', N'Red', 4)\r\n",
                "\tINSERT INTO @Car (CarId, Registration, Colour, NumberOfDoors) VALUES (46, N'BX36 6EY', N'Red', 4)\r\n",
                "\tINSERT INTO @Car (CarId, Registration, Colour, NumberOfDoors) VALUES (47, N'WP59 4SQ', N'Silver', 4)\r\n",
                "\tINSERT INTO @Car (CarId, Registration, Colour, NumberOfDoors) VALUES (48, N'UH99 6MK', N'Silver', 2)\r\n",
                "\tINSERT INTO @Car (CarId, Registration, Colour, NumberOfDoors) VALUES (49, N'JE37 8HS', N'White', 4)\r\n",
                "\tINSERT INTO @Car (CarId, Registration, Colour, NumberOfDoors) VALUES (50, N'AC41 9DS', N'White', 2)\r\n",
                "\tINSERT INTO @Car (CarId, Registration, Colour, NumberOfDoors) VALUES (51, N'TK24 8XE', N'Silver', 2)\r\n",
                "\tINSERT INTO @Car (CarId, Registration, Colour, NumberOfDoors) VALUES (52, N'WL48 6BA', N'Silver', 2)\r\n",
                "\tINSERT INTO @Car (CarId, Registration, Colour, NumberOfDoors) VALUES (53, N'SW26 8RV', N'Red', 4)\r\n",
                "\tINSERT INTO @Car (CarId, Registration, Colour, NumberOfDoors) VALUES (54, N'FD56 0DE', N'Blue', 2)\r\n",
                "\tINSERT INTO @Car (CarId, Registration, Colour, NumberOfDoors) VALUES (55, N'VD32 0HP', N'Red', 4)\r\n",
                "\tINSERT INTO @Car (CarId, Registration, Colour, NumberOfDoors) VALUES (56, N'GY08 5GN', N'Green', 4)\r\n",
                "\tINSERT INTO @Car (CarId, Registration, Colour, NumberOfDoors) VALUES (57, N'XB23 8SS', N'Red', 2)\r\n",
                "\tINSERT INTO @Car (CarId, Registration, Colour, NumberOfDoors) VALUES (58, N'NT35 2SQ', N'Green', 2)\r\n",
                "\tINSERT INTO @Car (CarId, Registration, Colour, NumberOfDoors) VALUES (59, N'FV77 2RP', N'White', 4)\r\n",
                "\tINSERT INTO @Car (CarId, Registration, Colour, NumberOfDoors) VALUES (60, N'PC23 2MW', N'Green', 4)\r\n",
                "\tINSERT INTO @Car (CarId, Registration, Colour, NumberOfDoors) VALUES (61, N'CY29 9MF', N'Blue', 4)\r\n",
                "\tINSERT INTO @Car (CarId, Registration, Colour, NumberOfDoors) VALUES (62, N'PD35 6WU', N'Red', 4)\r\n",
                "\tINSERT INTO @Car (CarId, Registration, Colour, NumberOfDoors) VALUES (63, N'AF37 0EX', N'Green', 4)\r\n",
                "\tINSERT INTO @Car (CarId, Registration, Colour, NumberOfDoors) VALUES (64, N'NE17 0FN', N'Green', 2)\r\n",
                "\tINSERT INTO @Car (CarId, Registration, Colour, NumberOfDoors) VALUES (65, N'XM17 9GM', N'White', 2)\r\n",
                "\tINSERT INTO @Car (CarId, Registration, Colour, NumberOfDoors) VALUES (66, N'AE22 7KA', N'Blue', 4)\r\n",
                "\tINSERT INTO @Car (CarId, Registration, Colour, NumberOfDoors) VALUES (67, N'QA48 4PB', N'Blue', 2)\r\n",
                "\tINSERT INTO @Car (CarId, Registration, Colour, NumberOfDoors) VALUES (68, N'RM52 9NF', Null, 4)\r\n",
                "\tINSERT INTO @Car (CarId, Registration, Colour, NumberOfDoors) VALUES (69, N'DG79 7EX', Null, 4)\r\n",
                "\tINSERT INTO @Car (CarId, Registration, Colour, NumberOfDoors) VALUES (70, N'HK32 7VP', N'Green', 2)\r\n",
                "\tINSERT INTO @Car (CarId, Registration, Colour, NumberOfDoors) VALUES (71, N'HK23 1QQ', N'Green', 4)\r\n",
                "\tINSERT INTO @Car (CarId, Registration, Colour, NumberOfDoors) VALUES (72, N'PG26 1XH', N'Green', 2)\r\n",
                "\tINSERT INTO @Car (CarId, Registration, Colour, NumberOfDoors) VALUES (73, N'PW19 0KN', Null, 2)\r\n",
                "\tINSERT INTO @Car (CarId, Registration, Colour, NumberOfDoors) VALUES (74, N'WT96 4PW', N'Silver', 4)\r\n",
                "\tINSERT INTO @Car (CarId, Registration, Colour, NumberOfDoors) VALUES (75, N'LT18 1SV', N'Blue', 4)\r\n",
                "\tINSERT INTO @Car (CarId, Registration, Colour, NumberOfDoors) VALUES (76, N'QQ38 0FT', N'Blue', 2)\r\n",
                "\tINSERT INTO @Car (CarId, Registration, Colour, NumberOfDoors) VALUES (77, N'NX17 4CY', N'Red', 2)\r\n",
                "\tINSERT INTO @Car (CarId, Registration, Colour, NumberOfDoors) VALUES (78, N'UD78 0RL', N'Silver', 4)\r\n",
                "\tINSERT INTO @Car (CarId, Registration, Colour, NumberOfDoors) VALUES (79, N'VE29 4NW', N'Red', 2)\r\n",
                "\tINSERT INTO @Car (CarId, Registration, Colour, NumberOfDoors) VALUES (80, N'NP01 2DD', N'Silver', 2)\r\n",
                "\tINSERT INTO @Car (CarId, Registration, Colour, NumberOfDoors) VALUES (81, N'BY95 6TT', N'White', 2)\r\n",
                "\tINSERT INTO @Car (CarId, Registration, Colour, NumberOfDoors) VALUES (82, N'JR10 2NH', Null, 2)\r\n",
                "\tINSERT INTO @Car (CarId, Registration, Colour, NumberOfDoors) VALUES (83, N'SC55 1NP', N'Green', 2)\r\n",
                "\tINSERT INTO @Car (CarId, Registration, Colour, NumberOfDoors) VALUES (84, N'LY99 5DF', N'Silver', 4)\r\n",
                "\tINSERT INTO @Car (CarId, Registration, Colour, NumberOfDoors) VALUES (85, N'FR75 6HY', N'Green', 2)\r\n",
                "\tINSERT INTO @Car (CarId, Registration, Colour, NumberOfDoors) VALUES (86, N'SB36 2MA', N'Silver', 2)\r\n",
                "\tINSERT INTO @Car (CarId, Registration, Colour, NumberOfDoors) VALUES (87, N'CB46 6KG', N'Red', 4)\r\n",
                "\tINSERT INTO @Car (CarId, Registration, Colour, NumberOfDoors) VALUES (88, N'VD04 7DK', N'Silver', 2)\r\n",
                "\tINSERT INTO @Car (CarId, Registration, Colour, NumberOfDoors) VALUES (89, N'TL11 2KU', N'Silver', 4)\r\n",
                "\tINSERT INTO @Car (CarId, Registration, Colour, NumberOfDoors) VALUES (90, N'RW33 5SU', N'Green', 4)\r\n",
                "\tINSERT INTO @Car (CarId, Registration, Colour, NumberOfDoors) VALUES (91, N'XW21 5YN', N'Silver', 4)\r\n",
                "\tINSERT INTO @Car (CarId, Registration, Colour, NumberOfDoors) VALUES (92, N'EJ37 4KK', N'White', 4)\r\n",
                "\tINSERT INTO @Car (CarId, Registration, Colour, NumberOfDoors) VALUES (93, N'UM88 0GG', N'Silver', 4)\r\n",
                "\tINSERT INTO @Car (CarId, Registration, Colour, NumberOfDoors) VALUES (94, N'LC09 4FE', N'Blue', 4)\r\n",
                "\tINSERT INTO @Car (CarId, Registration, Colour, NumberOfDoors) VALUES (95, N'LD10 2CS', N'White', 4)\r\n",
                "\tINSERT INTO @Car (CarId, Registration, Colour, NumberOfDoors) VALUES (96, N'RG50 0JP', Null, 2)\r\n",
                "\tINSERT INTO @Car (CarId, Registration, Colour, NumberOfDoors) VALUES (97, N'BE84 8VB', N'Green', 4)\r\n",
                "\tINSERT INTO @Car (CarId, Registration, Colour, NumberOfDoors) VALUES (98, N'MX56 4PP', Null, 2)\r\n",
                "\tINSERT INTO @Car (CarId, Registration, Colour, NumberOfDoors) VALUES (99, N'CX06 8LU', N'Green', 2)\r\n",
                "\tINSERT INTO @Car (CarId, Registration, Colour, NumberOfDoors) VALUES (100, N'WR67 3KA', Null, 4)\r\n",
                "\t;\r\n",
                "\r\n",
                "\tSET IDENTITY_INSERT dbo.Car ON\r\n",
                "\t;\r\n",
                "\r\n",
                "\tinsert\tdbo.Car (CarId, Registration, ColourId, NumberOfDoors)\r\n",
                "\tSelect\ta.CarId, \r\n",
                "\t\t\ta.Registration, \r\n",
                "\t\t\tb.ColourId, \r\n",
                "\t\t\ta.NumberOfDoors\r\n",
                "\tfrom\t@Car a\r\n",
                "\tleft join\tColour b\ton\t\ta.Colour = b.Colour\r\n",
                "\t;\r\n",
                "\r\n",
                "\tSET IDENTITY_INSERT dbo.Car OFF\r\n",
                "\tgo"
            ],
            "metadata": {
                "azdata_cell_guid": "02156a5f-3681-477b-94b6-7a0d15922ebf",
                "language": "sql",
                "tags": [
                    "hide_input"
                ]
            },
            "outputs": [],
            "execution_count": null
        },
        {
            "cell_type": "markdown",
            "source": [
                "This script creates 2 tables, each containing a ColourId field which can be used for joining.\r\n",
                "\r\n",
                "![Bulltech Solutions](.\\Images\\JoinsLesson_Structure.jpg)"
            ],
            "metadata": {
                "language": "sql",
                "azdata_cell_guid": "1d3c586c-2606-457d-98fa-98be4bb1371c"
            },
            "attachments": {}
        },
        {
            "cell_type": "markdown",
            "source": [
                "## Inner Joins\r\n",
                "\r\n",
                "Inner joins allow you to join tables where the values in the joining field(s) are equal. To perform this type of join you will use the INNER JOIN or JOIN clause which specifies the table being joined to. Along with an ON clause specifying the fields on which to join."
            ],
            "metadata": {
                "azdata_cell_guid": "434a4606-bf28-470f-baa2-f4b6a67c23a4"
            },
            "attachments": {}
        },
        {
            "cell_type": "code",
            "source": [
                "Select\tdbo.Car.CarId, \r\n",
                "        dbo.Car.Registration, \r\n",
                "        dbo.Colour.Colour, \r\n",
                "        dbo.Car.NumberOfDoors\r\n",
                "from\tdbo.Car \r\n",
                "inner join\tdbo.Colour\ton\tdbo.Car.ColourId = dbo.Colour.ColourId"
            ],
            "metadata": {
                "azdata_cell_guid": "9ff7fcb0-54e1-4197-be60-9433fd84597b",
                "language": "sql"
            },
            "outputs": [],
            "execution_count": null
        },
        {
            "cell_type": "markdown",
            "source": [
                "You will notice that each field, in both the field list and the join, are prefixed with the table name. These prefixes are required where fields of the same name appear in more than one joined table, but can be useful under other circumstances too. Rather than have to include the complete table name prefixes, it is possible to define and reference table aliases. In the following example we supply an alias of A for dbo.Car, and B for dbo.Colour."
            ],
            "metadata": {
                "azdata_cell_guid": "aaad469e-b045-426f-ac44-47a9a83f0cb9"
            },
            "attachments": {}
        },
        {
            "cell_type": "code",
            "source": [
                "Select\tCarId, \r\n",
                "\t\tRegistration, \r\n",
                "\t\tColour, \r\n",
                "\t\tNumberOfDoors\r\n",
                "from\tdbo.Car A\r\n",
                "join\tdbo.Colour B\ton\tA.ColourId = B.ColourId"
            ],
            "metadata": {
                "azdata_cell_guid": "ed976ebf-59eb-45f5-9d50-3ddac660ff71",
                "language": "sql"
            },
            "outputs": [],
            "execution_count": null
        },
        {
            "cell_type": "markdown",
            "source": [
                "## Outer Joins\r\n",
                "\r\n",
                "Outer joins come in 3 varieties; Left, Right and Full outer joins. In each case they include all records from at least one of the joined table, and matching records from the other table. Left or Right keyword refers to the table from which all records are included, and whether that table is on the Left or Right of the Join keyword. The following query uses a left joint to include all records from dbo.Car and matching records from dbo.Colour. You will notice from the results that where ColourId is null in dbo.Car we are not able to complete a join to dbo.Colour, and for the resulting Colour field is also null."
            ],
            "metadata": {
                "azdata_cell_guid": "e75ea74d-5c71-454c-80d1-a912dfc0877b"
            },
            "attachments": {}
        },
        {
            "cell_type": "code",
            "source": [
                "Select\tCarId, \r\n",
                "\t\tRegistration, \r\n",
                "\t\tColour, \r\n",
                "\t\tNumberOfDoors\r\n",
                "from\tdbo.Car a\r\n",
                "left join\tdbo.Colour b\ton\ta.ColourId = b.ColourId\r\n",
                "order by Colour"
            ],
            "metadata": {
                "azdata_cell_guid": "c0cf69be-d1ac-4b61-8903-deaeef15a36e",
                "language": "sql"
            },
            "outputs": [],
            "execution_count": null
        },
        {
            "cell_type": "markdown",
            "source": [
                "Full joins are slightly different in that they include all records from both joined tables as well as all joining records in the results. All fields relating to records which are not matched, from whichever table, will be represented as null.\r\n",
                "\r\n",
                "## Identifying Unmatched Records\r\n",
                "\r\n",
                "Identifying records with no match can be very useful, and can be achieved by performing a left join and filtering for just those records where a non-nullable field from the right table is null."
            ],
            "metadata": {
                "azdata_cell_guid": "939d7a99-252f-4605-9ab5-03fe74ddf5f6"
            },
            "attachments": {}
        },
        {
            "cell_type": "code",
            "source": [
                "Select\tCarId, \r\n",
                "\t\tRegistration, \r\n",
                "\t\tColour, \r\n",
                "\t\tNumberOfDoors\r\n",
                "from\tdbo.Car a\r\n",
                "left join\tdbo.Colour b\ton\ta.ColourId = b.ColourId\r\n",
                "where\tb.ColourId is null"
            ],
            "metadata": {
                "azdata_cell_guid": "a8e0b504-4e2c-4617-a354-dc67553719a5",
                "language": "sql"
            },
            "outputs": [],
            "execution_count": null
        },
        {
            "cell_type": "markdown",
            "source": [
                "## Cross Joins\r\n",
                "\r\n",
                ""
            ],
            "metadata": {
                "azdata_cell_guid": "286f55d8-0a54-4136-8206-786b782b09d5"
            },
            "attachments": {}
        }
    ]
}