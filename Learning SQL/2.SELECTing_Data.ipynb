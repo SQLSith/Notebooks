{
    "metadata": {
        "kernelspec": {
            "name": "SQL",
            "display_name": "SQL",
            "language": "sql"
        },
        "language_info": {
            "name": "sql",
            "version": ""
        }
    },
    "nbformat_minor": 2,
    "nbformat": 4,
    "cells": [
        {
            "cell_type": "markdown",
            "source": [
                "![Alt text](<Images/Bulltech.jpg>)\r\n",
                "\r\n",
                "# Selecting Data\r\n",
                "\r\n",
                "Returning data from SQL Server is performed by using a **SELECT** statement, which is a natural language syntax  defining what data should be returned, from where, and under what conditions. The **SELECT** statement will generally contain a **FROM** clause which defines which table to select data from, and optionally a **WHERE** which defines the predicate; the qualification criteria for which data should be returned.\r\n",
                "\r\n",
                "# Exercises\r\n",
                "\r\n",
                "## Data Preparation\r\n",
                "\r\n",
                "To execute the following examples you will need to connect to a SQL Server instance and execute the following data preparation script. For now just execute this code, it will be explained in a future lesson.\r\n",
                "\r\n",
                ""
            ],
            "metadata": {
                "azdata_cell_guid": "28035cce-512a-4b44-9e1a-71ea71a38dda"
            },
            "attachments": {}
        },
        {
            "cell_type": "code",
            "source": [
                "Set nocount ON\r\n",
                "go\r\n",
                "\r\n",
                "if exists (Select * from information_Schema.tables where TABLE_NAME = 'Car' and TABLE_SCHEMA = 'dbo')\r\n",
                "begin\r\n",
                "\tdrop table dbo.Car\r\n",
                "end \r\n",
                "go\r\n",
                "\r\n",
                "Create table dbo.Car\r\n",
                "(\r\n",
                "CarId\tint identity(1,1),\r\n",
                "Registration varchar(15),\r\n",
                "Colour\tvarchar(50),\r\n",
                "NumberOfDoors tinyint\r\n",
                ")\r\n",
                "go\r\n",
                "\r\n",
                "SET IDENTITY_INSERT [dbo].[Car] ON\r\n",
                "INSERT INTO [dbo].[Car] ([CarId], [Registration], [Colour], [NumberOfDoors]) VALUES (1, N'HW83 8UH', N'Red', 4)\r\n",
                "INSERT INTO [dbo].[Car] ([CarId], [Registration], [Colour], [NumberOfDoors]) VALUES (2, N'SL31 5UB', N'Blue', 2)\r\n",
                "INSERT INTO [dbo].[Car] ([CarId], [Registration], [Colour], [NumberOfDoors]) VALUES (3, N'GA66 4RY', N'Blue', 2)\r\n",
                "INSERT INTO [dbo].[Car] ([CarId], [Registration], [Colour], [NumberOfDoors]) VALUES (4, N'CR74 4YK', N'Black', 4)\r\n",
                "INSERT INTO [dbo].[Car] ([CarId], [Registration], [Colour], [NumberOfDoors]) VALUES (5, N'NP50 4QJ', N'Red', 4)\r\n",
                "INSERT INTO [dbo].[Car] ([CarId], [Registration], [Colour], [NumberOfDoors]) VALUES (6, N'LS79 6TU', N'Green', 2)\r\n",
                "INSERT INTO [dbo].[Car] ([CarId], [Registration], [Colour], [NumberOfDoors]) VALUES (7, N'JV24 8SD', N'Silver', 4)\r\n",
                "INSERT INTO [dbo].[Car] ([CarId], [Registration], [Colour], [NumberOfDoors]) VALUES (8, N'YW32 3XE', N'White', 2)\r\n",
                "INSERT INTO [dbo].[Car] ([CarId], [Registration], [Colour], [NumberOfDoors]) VALUES (9, N'HF71 3LT', N'Green', 4)\r\n",
                "INSERT INTO [dbo].[Car] ([CarId], [Registration], [Colour], [NumberOfDoors]) VALUES (10, N'KV82 0HD', N'Black', 4)\r\n",
                "INSERT INTO [dbo].[Car] ([CarId], [Registration], [Colour], [NumberOfDoors]) VALUES (11, N'VU30 1SJ', N'Silver', 2)\r\n",
                "INSERT INTO [dbo].[Car] ([CarId], [Registration], [Colour], [NumberOfDoors]) VALUES (12, N'XT03 3WU', N'Silver', 4)\r\n",
                "INSERT INTO [dbo].[Car] ([CarId], [Registration], [Colour], [NumberOfDoors]) VALUES (13, N'FG19 7FP', N'Silver', 2)\r\n",
                "INSERT INTO [dbo].[Car] ([CarId], [Registration], [Colour], [NumberOfDoors]) VALUES (14, N'CV90 5RJ', N'White', 2)\r\n",
                "INSERT INTO [dbo].[Car] ([CarId], [Registration], [Colour], [NumberOfDoors]) VALUES (15, N'VH46 1FB', N'Blue', 2)\r\n",
                "INSERT INTO [dbo].[Car] ([CarId], [Registration], [Colour], [NumberOfDoors]) VALUES (16, N'DK73 9HK', N'Black', 2)\r\n",
                "INSERT INTO [dbo].[Car] ([CarId], [Registration], [Colour], [NumberOfDoors]) VALUES (17, N'FL43 8LG', N'Silver', 2)\r\n",
                "INSERT INTO [dbo].[Car] ([CarId], [Registration], [Colour], [NumberOfDoors]) VALUES (18, N'RY58 8RS', N'Silver', 4)\r\n",
                "INSERT INTO [dbo].[Car] ([CarId], [Registration], [Colour], [NumberOfDoors]) VALUES (19, N'XK81 7PY', N'Blue', 4)\r\n",
                "INSERT INTO [dbo].[Car] ([CarId], [Registration], [Colour], [NumberOfDoors]) VALUES (20, N'DJ32 0PS', N'Blue', 2)\r\n",
                "INSERT INTO [dbo].[Car] ([CarId], [Registration], [Colour], [NumberOfDoors]) VALUES (21, N'JY26 7BS', N'Black', 4)\r\n",
                "INSERT INTO [dbo].[Car] ([CarId], [Registration], [Colour], [NumberOfDoors]) VALUES (22, N'YP08 4RC', N'Red', 2)\r\n",
                "INSERT INTO [dbo].[Car] ([CarId], [Registration], [Colour], [NumberOfDoors]) VALUES (23, N'KW71 4TL', N'White', 4)\r\n",
                "INSERT INTO [dbo].[Car] ([CarId], [Registration], [Colour], [NumberOfDoors]) VALUES (24, N'EX84 5KD', N'Green', 4)\r\n",
                "INSERT INTO [dbo].[Car] ([CarId], [Registration], [Colour], [NumberOfDoors]) VALUES (25, N'AP37 7RQ', N'Black', 4)\r\n",
                "INSERT INTO [dbo].[Car] ([CarId], [Registration], [Colour], [NumberOfDoors]) VALUES (26, N'TW57 4JY', N'Black', 4)\r\n",
                "INSERT INTO [dbo].[Car] ([CarId], [Registration], [Colour], [NumberOfDoors]) VALUES (27, N'KT17 8NB', N'Blue', 4)\r\n",
                "INSERT INTO [dbo].[Car] ([CarId], [Registration], [Colour], [NumberOfDoors]) VALUES (28, N'UR92 1UB', N'Black', 4)\r\n",
                "INSERT INTO [dbo].[Car] ([CarId], [Registration], [Colour], [NumberOfDoors]) VALUES (29, N'JV78 3PS', N'Red', 2)\r\n",
                "INSERT INTO [dbo].[Car] ([CarId], [Registration], [Colour], [NumberOfDoors]) VALUES (30, N'WS68 6WW', N'Green', 4)\r\n",
                "INSERT INTO [dbo].[Car] ([CarId], [Registration], [Colour], [NumberOfDoors]) VALUES (31, N'BK77 0QG', N'Red', 4)\r\n",
                "INSERT INTO [dbo].[Car] ([CarId], [Registration], [Colour], [NumberOfDoors]) VALUES (32, N'HN90 0AX', N'Black', 4)\r\n",
                "INSERT INTO [dbo].[Car] ([CarId], [Registration], [Colour], [NumberOfDoors]) VALUES (33, N'YX60 5BT', N'Silver', 2)\r\n",
                "INSERT INTO [dbo].[Car] ([CarId], [Registration], [Colour], [NumberOfDoors]) VALUES (34, N'NJ38 9SA', N'Silver', 2)\r\n",
                "INSERT INTO [dbo].[Car] ([CarId], [Registration], [Colour], [NumberOfDoors]) VALUES (35, N'QG09 2WQ', N'Blue', 4)\r\n",
                "INSERT INTO [dbo].[Car] ([CarId], [Registration], [Colour], [NumberOfDoors]) VALUES (36, N'LU12 6QD', N'Blue', 4)\r\n",
                "INSERT INTO [dbo].[Car] ([CarId], [Registration], [Colour], [NumberOfDoors]) VALUES (37, N'MQ42 5SP', N'Green', 4)\r\n",
                "INSERT INTO [dbo].[Car] ([CarId], [Registration], [Colour], [NumberOfDoors]) VALUES (38, N'YX57 3XJ', N'Black', 2)\r\n",
                "INSERT INTO [dbo].[Car] ([CarId], [Registration], [Colour], [NumberOfDoors]) VALUES (39, N'AD01 6TL', N'Green', 2)\r\n",
                "INSERT INTO [dbo].[Car] ([CarId], [Registration], [Colour], [NumberOfDoors]) VALUES (40, N'TE16 9CF', N'Black', 4)\r\n",
                "INSERT INTO [dbo].[Car] ([CarId], [Registration], [Colour], [NumberOfDoors]) VALUES (41, N'LK32 2SD', N'Red', 2)\r\n",
                "INSERT INTO [dbo].[Car] ([CarId], [Registration], [Colour], [NumberOfDoors]) VALUES (42, N'QK84 2NV', N'White', 4)\r\n",
                "INSERT INTO [dbo].[Car] ([CarId], [Registration], [Colour], [NumberOfDoors]) VALUES (43, N'UX03 2PQ', N'Silver', 2)\r\n",
                "INSERT INTO [dbo].[Car] ([CarId], [Registration], [Colour], [NumberOfDoors]) VALUES (44, N'UD52 2NC', N'Blue', 4)\r\n",
                "INSERT INTO [dbo].[Car] ([CarId], [Registration], [Colour], [NumberOfDoors]) VALUES (45, N'HF19 3FG', N'Red', 4)\r\n",
                "INSERT INTO [dbo].[Car] ([CarId], [Registration], [Colour], [NumberOfDoors]) VALUES (46, N'BX36 6EY', N'Red', 4)\r\n",
                "INSERT INTO [dbo].[Car] ([CarId], [Registration], [Colour], [NumberOfDoors]) VALUES (47, N'WP59 4SQ', N'Silver', 4)\r\n",
                "INSERT INTO [dbo].[Car] ([CarId], [Registration], [Colour], [NumberOfDoors]) VALUES (48, N'UH99 6MK', N'Silver', 2)\r\n",
                "INSERT INTO [dbo].[Car] ([CarId], [Registration], [Colour], [NumberOfDoors]) VALUES (49, N'JE37 8HS', N'White', 4)\r\n",
                "INSERT INTO [dbo].[Car] ([CarId], [Registration], [Colour], [NumberOfDoors]) VALUES (50, N'AC41 9DS', N'White', 2)\r\n",
                "INSERT INTO [dbo].[Car] ([CarId], [Registration], [Colour], [NumberOfDoors]) VALUES (51, N'TK24 8XE', N'Silver', 2)\r\n",
                "INSERT INTO [dbo].[Car] ([CarId], [Registration], [Colour], [NumberOfDoors]) VALUES (52, N'WL48 6BA', N'Silver', 2)\r\n",
                "INSERT INTO [dbo].[Car] ([CarId], [Registration], [Colour], [NumberOfDoors]) VALUES (53, N'SW26 8RV', N'Red', 4)\r\n",
                "INSERT INTO [dbo].[Car] ([CarId], [Registration], [Colour], [NumberOfDoors]) VALUES (54, N'FD56 0DE', N'Blue', 2)\r\n",
                "INSERT INTO [dbo].[Car] ([CarId], [Registration], [Colour], [NumberOfDoors]) VALUES (55, N'VD32 0HP', N'Red', 4)\r\n",
                "INSERT INTO [dbo].[Car] ([CarId], [Registration], [Colour], [NumberOfDoors]) VALUES (56, N'GY08 5GN', N'Green', 4)\r\n",
                "INSERT INTO [dbo].[Car] ([CarId], [Registration], [Colour], [NumberOfDoors]) VALUES (57, N'XB23 8SS', N'Red', 2)\r\n",
                "INSERT INTO [dbo].[Car] ([CarId], [Registration], [Colour], [NumberOfDoors]) VALUES (58, N'NT35 2SQ', N'Green', 2)\r\n",
                "INSERT INTO [dbo].[Car] ([CarId], [Registration], [Colour], [NumberOfDoors]) VALUES (59, N'FV77 2RP', N'White', 4)\r\n",
                "INSERT INTO [dbo].[Car] ([CarId], [Registration], [Colour], [NumberOfDoors]) VALUES (60, N'PC23 2MW', N'Green', 4)\r\n",
                "INSERT INTO [dbo].[Car] ([CarId], [Registration], [Colour], [NumberOfDoors]) VALUES (61, N'CY29 9MF', N'Blue', 4)\r\n",
                "INSERT INTO [dbo].[Car] ([CarId], [Registration], [Colour], [NumberOfDoors]) VALUES (62, N'PD35 6WU', N'Red', 4)\r\n",
                "INSERT INTO [dbo].[Car] ([CarId], [Registration], [Colour], [NumberOfDoors]) VALUES (63, N'AF37 0EX', N'Green', 4)\r\n",
                "INSERT INTO [dbo].[Car] ([CarId], [Registration], [Colour], [NumberOfDoors]) VALUES (64, N'NE17 0FN', N'Green', 2)\r\n",
                "INSERT INTO [dbo].[Car] ([CarId], [Registration], [Colour], [NumberOfDoors]) VALUES (65, N'XM17 9GM', N'White', 2)\r\n",
                "INSERT INTO [dbo].[Car] ([CarId], [Registration], [Colour], [NumberOfDoors]) VALUES (66, N'AE22 7KA', N'Blue', 4)\r\n",
                "INSERT INTO [dbo].[Car] ([CarId], [Registration], [Colour], [NumberOfDoors]) VALUES (67, N'QA48 4PB', N'Blue', 2)\r\n",
                "INSERT INTO [dbo].[Car] ([CarId], [Registration], [Colour], [NumberOfDoors]) VALUES (68, N'RM52 9NF', N'Black', 4)\r\n",
                "INSERT INTO [dbo].[Car] ([CarId], [Registration], [Colour], [NumberOfDoors]) VALUES (69, N'DG79 7EX', N'Black', 4)\r\n",
                "INSERT INTO [dbo].[Car] ([CarId], [Registration], [Colour], [NumberOfDoors]) VALUES (70, N'HK32 7VP', N'Green', 2)\r\n",
                "INSERT INTO [dbo].[Car] ([CarId], [Registration], [Colour], [NumberOfDoors]) VALUES (71, N'HK23 1QQ', N'Green', 4)\r\n",
                "INSERT INTO [dbo].[Car] ([CarId], [Registration], [Colour], [NumberOfDoors]) VALUES (72, N'PG26 1XH', N'Green', 2)\r\n",
                "INSERT INTO [dbo].[Car] ([CarId], [Registration], [Colour], [NumberOfDoors]) VALUES (73, N'PW19 0KN', N'Black', 2)\r\n",
                "INSERT INTO [dbo].[Car] ([CarId], [Registration], [Colour], [NumberOfDoors]) VALUES (74, N'WT96 4PW', N'Silver', 4)\r\n",
                "INSERT INTO [dbo].[Car] ([CarId], [Registration], [Colour], [NumberOfDoors]) VALUES (75, N'LT18 1SV', N'Blue', 4)\r\n",
                "INSERT INTO [dbo].[Car] ([CarId], [Registration], [Colour], [NumberOfDoors]) VALUES (76, N'QQ38 0FT', N'Blue', 2)\r\n",
                "INSERT INTO [dbo].[Car] ([CarId], [Registration], [Colour], [NumberOfDoors]) VALUES (77, N'NX17 4CY', N'Red', 2)\r\n",
                "INSERT INTO [dbo].[Car] ([CarId], [Registration], [Colour], [NumberOfDoors]) VALUES (78, N'UD78 0RL', N'Silver', 4)\r\n",
                "INSERT INTO [dbo].[Car] ([CarId], [Registration], [Colour], [NumberOfDoors]) VALUES (79, N'VE29 4NW', N'Red', 2)\r\n",
                "INSERT INTO [dbo].[Car] ([CarId], [Registration], [Colour], [NumberOfDoors]) VALUES (80, N'NP01 2DD', N'Silver', 2)\r\n",
                "INSERT INTO [dbo].[Car] ([CarId], [Registration], [Colour], [NumberOfDoors]) VALUES (81, N'BY95 6TT', N'White', 2)\r\n",
                "INSERT INTO [dbo].[Car] ([CarId], [Registration], [Colour], [NumberOfDoors]) VALUES (82, N'JR10 2NH', N'Black', 2)\r\n",
                "INSERT INTO [dbo].[Car] ([CarId], [Registration], [Colour], [NumberOfDoors]) VALUES (83, N'SC55 1NP', N'Green', 2)\r\n",
                "INSERT INTO [dbo].[Car] ([CarId], [Registration], [Colour], [NumberOfDoors]) VALUES (84, N'LY99 5DF', N'Silver', 4)\r\n",
                "INSERT INTO [dbo].[Car] ([CarId], [Registration], [Colour], [NumberOfDoors]) VALUES (85, N'FR75 6HY', N'Green', 2)\r\n",
                "INSERT INTO [dbo].[Car] ([CarId], [Registration], [Colour], [NumberOfDoors]) VALUES (86, N'SB36 2MA', N'Silver', 2)\r\n",
                "INSERT INTO [dbo].[Car] ([CarId], [Registration], [Colour], [NumberOfDoors]) VALUES (87, N'CB46 6KG', N'Red', 4)\r\n",
                "INSERT INTO [dbo].[Car] ([CarId], [Registration], [Colour], [NumberOfDoors]) VALUES (88, N'VD04 7DK', N'Silver', 2)\r\n",
                "INSERT INTO [dbo].[Car] ([CarId], [Registration], [Colour], [NumberOfDoors]) VALUES (89, N'TL11 2KU', N'Silver', 4)\r\n",
                "INSERT INTO [dbo].[Car] ([CarId], [Registration], [Colour], [NumberOfDoors]) VALUES (90, N'RW33 5SU', N'Green', 4)\r\n",
                "INSERT INTO [dbo].[Car] ([CarId], [Registration], [Colour], [NumberOfDoors]) VALUES (91, N'XW21 5YN', N'Silver', 4)\r\n",
                "INSERT INTO [dbo].[Car] ([CarId], [Registration], [Colour], [NumberOfDoors]) VALUES (92, N'EJ37 4KK', N'White', 4)\r\n",
                "INSERT INTO [dbo].[Car] ([CarId], [Registration], [Colour], [NumberOfDoors]) VALUES (93, N'UM88 0GG', N'Silver', 4)\r\n",
                "INSERT INTO [dbo].[Car] ([CarId], [Registration], [Colour], [NumberOfDoors]) VALUES (94, N'LC09 4FE', N'Blue', 4)\r\n",
                "INSERT INTO [dbo].[Car] ([CarId], [Registration], [Colour], [NumberOfDoors]) VALUES (95, N'LD10 2CS', N'White', 4)\r\n",
                "INSERT INTO [dbo].[Car] ([CarId], [Registration], [Colour], [NumberOfDoors]) VALUES (96, N'RG50 0JP', N'Black', 2)\r\n",
                "INSERT INTO [dbo].[Car] ([CarId], [Registration], [Colour], [NumberOfDoors]) VALUES (97, N'BE84 8VB', N'Green', 4)\r\n",
                "INSERT INTO [dbo].[Car] ([CarId], [Registration], [Colour], [NumberOfDoors]) VALUES (98, N'MX56 4PP', N'Black', 2)\r\n",
                "INSERT INTO [dbo].[Car] ([CarId], [Registration], [Colour], [NumberOfDoors]) VALUES (99, N'CX06 8LU', N'Green', 2)\r\n",
                "INSERT INTO [dbo].[Car] ([CarId], [Registration], [Colour], [NumberOfDoors]) VALUES (100, N'WR67 3KA', N'Black', 4)\r\n",
                "SET IDENTITY_INSERT [dbo].[Car] OFF\r\n",
                "go"
            ],
            "metadata": {
                "azdata_cell_guid": "f4281aa1-a1e6-4256-9900-d4e463b18739",
                "language": "sql",
                "tags": [
                    "hide_input"
                ]
            },
            "outputs": [],
            "execution_count": null
        },
        {
            "cell_type": "markdown",
            "source": [
                "## Example 1\n",
                "\n",
                "This first example will return all data from the dbo.Car table. Run this code and see what it returns."
            ],
            "metadata": {
                "azdata_cell_guid": "dbe3d9df-35c5-45c3-b622-4c9e729d4b5d"
            },
            "attachments": {}
        },
        {
            "cell_type": "markdown",
            "source": [
                "Lets take a look at how this is constructed...\n",
                "\n",
                "- First we have the **SELECT** clause, and a list of the fields which we would like to return.\n",
                "- Next we have the **FROM** clause which stipulates that the table from which the data should be returned. \n",
                "\n",
                "You will notice that the table name has two parts. The first part, dbo, is the schema name. This is a logical grouping od related objects, often belonging to a perticular user, or relating to a perticular product or project. The second part is the actual table name.\n",
                "\n",
                ""
            ],
            "metadata": {
                "azdata_cell_guid": "72f58c3d-54a9-4f4a-8fe6-2a3599492783"
            },
            "attachments": {}
        },
        {
            "cell_type": "code",
            "source": [
                "SELECT [CarId]\r\n",
                "      ,[Registration]\r\n",
                "      ,[Colour]\r\n",
                "      ,[NumberOfDoors]\r\n",
                "FROM [dbo].[Car]"
            ],
            "metadata": {
                "azdata_cell_guid": "97b3c8f1-10e2-4e22-b1d6-ce57b171600d",
                "language": "sql",
                "tags": []
            },
            "outputs": [],
            "execution_count": null
        },
        {
            "cell_type": "markdown",
            "source": [
                "## Example 2\n",
                "\n",
                "The following statement is functionally identical to the first. However, instead of listing out all the fields to return it uses \\* to indicate that all fields should be returned."
            ],
            "metadata": {
                "language": "sql",
                "azdata_cell_guid": "71498d37-8df1-4074-bebb-b3998f4b79c8"
            },
            "attachments": {}
        },
        {
            "cell_type": "code",
            "source": [
                "SELECT *\r\n",
                "FROM [dbo].[Car]"
            ],
            "metadata": {
                "language": "sql",
                "azdata_cell_guid": "0b8370c2-d93c-4c7b-b870-d677772ed2de",
                "tags": []
            },
            "outputs": [],
            "execution_count": null
        },
        {
            "cell_type": "markdown",
            "source": [
                "## Example 3\n",
                "\n",
                "The following statement will return all data relating to red cars.\n",
                "\n",
                "You will notice that we are now using an additional clause; **WHERE**. The **WHERE** clause allows you to specify a predicate to filter the data being returned to just those records of interest. This is a simple **WHERE** clause, more advances criteria will be covered in a future lesson."
            ],
            "metadata": {
                "azdata_cell_guid": "bfe3c743-14a7-4e8f-9be2-93dc14bef830"
            },
            "attachments": {}
        },
        {
            "cell_type": "code",
            "source": [
                "SELECT *\r\n",
                "FROM [dbo].[Car]\r\n",
                "WHERE [Colour] = 'Red'"
            ],
            "metadata": {
                "azdata_cell_guid": "6eeb4b67-85d6-4498-9f3e-6fcd2b11751b",
                "language": "sql",
                "tags": []
            },
            "outputs": [],
            "execution_count": null
        },
        {
            "cell_type": "markdown",
            "source": [
                "## Exercise\n",
                "\n",
                "In the below block please construct a statement which returns just the Registration and Colour fields for all Blue cars."
            ],
            "metadata": {
                "azdata_cell_guid": "42a068c5-99a4-4ce5-ab56-1ed93502b5c3"
            },
            "attachments": {}
        },
        {
            "cell_type": "code",
            "source": [
                ""
            ],
            "metadata": {
                "azdata_cell_guid": "62e20570-07ea-4ae7-87f1-8d7e9e89167d",
                "language": "sql"
            },
            "outputs": [],
            "execution_count": null
        }
    ]
}