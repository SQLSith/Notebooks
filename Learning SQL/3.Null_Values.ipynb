{
    "metadata": {
        "kernelspec": {
            "name": "SQL",
            "display_name": "SQL",
            "language": "sql"
        },
        "language_info": {
            "name": "sql",
            "version": ""
        }
    },
    "nbformat_minor": 2,
    "nbformat": 4,
    "cells": [
        {
            "cell_type": "markdown",
            "source": [
                "![Bulltech Solutions](.\\Images\\Bulltech.jpg)"
            ],
            "metadata": {
                "azdata_cell_guid": "28035cce-512a-4b44-9e1a-71ea71a38dda"
            },
            "attachments": {}
        },
        {
            "cell_type": "markdown",
            "source": [
                "# Null Values\n",
                "\n",
                "Null is a special value in SQL, or specifically it the lack of a known value. Null basically means that the value is unknown. Null values don't always behave as you may expect, and so it is important to understand them and how to handle them, correctly.\n",
                "\n",
                "## Data preparation\n",
                "\n",
                "To execute the following examples, you will need to connect to a SQL Server instance and execute the following data preparation script. You may not understand all of the syntax, but for now just execute this code, it will be explained in a future lesson.  \n",
                "\n",
                "Use the ![Bulltech Solutions](.\\Images\\Expand.jpg) icon at the bottom of each code block to expand the block and review the code.\n",
                "\n",
                "\n",
                "\n",
                ""
            ],
            "metadata": {
                "azdata_cell_guid": "d75cf29f-bedd-44cc-a503-4cdfafb68363"
            },
            "attachments": {}
        },
        {
            "cell_type": "code",
            "source": [
                "-- Restrict feedback to prevent unnecessary feedback\r\n",
                "\r\n",
                "\tSet nocount ON\r\n",
                "\tgo\r\n",
                "\r\n",
                "-- Create Car table, replacing if already exists\r\n",
                "\r\n",
                "\tif exists (Select * from information_Schema.tables where TABLE_NAME = 'Car' and TABLE_SCHEMA = 'dbo')\r\n",
                "\tbegin\r\n",
                "\t\tdrop table dbo.Car\r\n",
                "\tend \r\n",
                "\tgo\r\n",
                "\r\n",
                "\tCreate table dbo.Car\r\n",
                "\t(\r\n",
                "\tCarId\tint identity(1,1),\r\n",
                "\tRegistration varchar(15),\r\n",
                "\tColour\tvarchar(50),\r\n",
                "\tNumberOfDoors tinyint\r\n",
                "\t)\r\n",
                "\tgo\r\n",
                "\r\n",
                "\tSET IDENTITY_INSERT [dbo].[Car] ON\r\n",
                "\tINSERT INTO [dbo].[Car] ([CarId], [Registration], [Colour], [NumberOfDoors]) VALUES (1, N'HW83 8UH', N'Red', 4)\r\n",
                "\tINSERT INTO [dbo].[Car] ([CarId], [Registration], [Colour], [NumberOfDoors]) VALUES (2, N'SL31 5UB', N'Blue', 2)\r\n",
                "\tINSERT INTO [dbo].[Car] ([CarId], [Registration], [Colour], [NumberOfDoors]) VALUES (3, N'GA66 4RY', N'Blue', 2)\r\n",
                "\tINSERT INTO [dbo].[Car] ([CarId], [Registration], [Colour], [NumberOfDoors]) VALUES (4, N'CR74 4YK', N'Black', 4)\r\n",
                "\tINSERT INTO [dbo].[Car] ([CarId], [Registration], [Colour], [NumberOfDoors]) VALUES (5, N'NP50 4QJ', N'Red', 4)\r\n",
                "\tINSERT INTO [dbo].[Car] ([CarId], [Registration], [Colour], [NumberOfDoors]) VALUES (6, N'LS79 6TU', Null, 2)\r\n",
                "\tINSERT INTO [dbo].[Car] ([CarId], [Registration], [Colour], [NumberOfDoors]) VALUES (7, N'JV24 8SD', N'Silver', 4)\r\n",
                "\tINSERT INTO [dbo].[Car] ([CarId], [Registration], [Colour], [NumberOfDoors]) VALUES (8, N'YW32 3XE', N'White', 2)\r\n",
                "\tINSERT INTO [dbo].[Car] ([CarId], [Registration], [Colour], [NumberOfDoors]) VALUES (9, N'HF71 3LT', Null, 4)\r\n",
                "\tINSERT INTO [dbo].[Car] ([CarId], [Registration], [Colour], [NumberOfDoors]) VALUES (10, N'KV82 0HD', N'Black', 4)\r\n",
                "\tINSERT INTO [dbo].[Car] ([CarId], [Registration], [Colour], [NumberOfDoors]) VALUES (11, N'VU30 1SJ', N'Silver', 2)\r\n",
                "\tINSERT INTO [dbo].[Car] ([CarId], [Registration], [Colour], [NumberOfDoors]) VALUES (12, N'XT03 3WU', N'Silver', 4)\r\n",
                "\tINSERT INTO [dbo].[Car] ([CarId], [Registration], [Colour], [NumberOfDoors]) VALUES (13, N'FG19 7FP', N'Silver', 2)\r\n",
                "\tINSERT INTO [dbo].[Car] ([CarId], [Registration], [Colour], [NumberOfDoors]) VALUES (14, N'CV90 5RJ', N'White', 2)\r\n",
                "\tINSERT INTO [dbo].[Car] ([CarId], [Registration], [Colour], [NumberOfDoors]) VALUES (15, N'VH46 1FB', N'Blue', 2)\r\n",
                "\tINSERT INTO [dbo].[Car] ([CarId], [Registration], [Colour], [NumberOfDoors]) VALUES (16, N'DK73 9HK', N'Black', 2)\r\n",
                "\tINSERT INTO [dbo].[Car] ([CarId], [Registration], [Colour], [NumberOfDoors]) VALUES (17, N'FL43 8LG', N'Silver', 2)\r\n",
                "\tINSERT INTO [dbo].[Car] ([CarId], [Registration], [Colour], [NumberOfDoors]) VALUES (18, N'RY58 8RS', N'Silver', 4)\r\n",
                "\tINSERT INTO [dbo].[Car] ([CarId], [Registration], [Colour], [NumberOfDoors]) VALUES (19, N'XK81 7PY', N'Blue', 4)\r\n",
                "\tINSERT INTO [dbo].[Car] ([CarId], [Registration], [Colour], [NumberOfDoors]) VALUES (20, N'DJ32 0PS', N'Blue', 2)\r\n",
                "\tINSERT INTO [dbo].[Car] ([CarId], [Registration], [Colour], [NumberOfDoors]) VALUES (21, N'JY26 7BS', N'Black', 4)\r\n",
                "\tINSERT INTO [dbo].[Car] ([CarId], [Registration], [Colour], [NumberOfDoors]) VALUES (22, N'YP08 4RC', N'Red', 2)\r\n",
                "\tINSERT INTO [dbo].[Car] ([CarId], [Registration], [Colour], [NumberOfDoors]) VALUES (23, N'KW71 4TL', N'White', 4)\r\n",
                "\tINSERT INTO [dbo].[Car] ([CarId], [Registration], [Colour], [NumberOfDoors]) VALUES (24, N'EX84 5KD', Null, 4)\r\n",
                "\tINSERT INTO [dbo].[Car] ([CarId], [Registration], [Colour], [NumberOfDoors]) VALUES (25, N'AP37 7RQ', N'Black', 4)\r\n",
                "\tINSERT INTO [dbo].[Car] ([CarId], [Registration], [Colour], [NumberOfDoors]) VALUES (26, N'TW57 4JY', N'Black', 4)\r\n",
                "\tINSERT INTO [dbo].[Car] ([CarId], [Registration], [Colour], [NumberOfDoors]) VALUES (27, N'KT17 8NB', N'Blue', 4)\r\n",
                "\tINSERT INTO [dbo].[Car] ([CarId], [Registration], [Colour], [NumberOfDoors]) VALUES (28, N'UR92 1UB', N'Black', 4)\r\n",
                "\tINSERT INTO [dbo].[Car] ([CarId], [Registration], [Colour], [NumberOfDoors]) VALUES (29, N'JV78 3PS', N'Red', 2)\r\n",
                "\tINSERT INTO [dbo].[Car] ([CarId], [Registration], [Colour], [NumberOfDoors]) VALUES (30, N'WS68 6WW', Null, 4)\r\n",
                "\tINSERT INTO [dbo].[Car] ([CarId], [Registration], [Colour], [NumberOfDoors]) VALUES (31, N'BK77 0QG', N'Red', 4)\r\n",
                "\tINSERT INTO [dbo].[Car] ([CarId], [Registration], [Colour], [NumberOfDoors]) VALUES (32, N'HN90 0AX', N'Black', 4)\r\n",
                "\tINSERT INTO [dbo].[Car] ([CarId], [Registration], [Colour], [NumberOfDoors]) VALUES (33, N'YX60 5BT', N'Silver', 2)\r\n",
                "\tINSERT INTO [dbo].[Car] ([CarId], [Registration], [Colour], [NumberOfDoors]) VALUES (34, N'NJ38 9SA', N'Silver', 2)\r\n",
                "\tINSERT INTO [dbo].[Car] ([CarId], [Registration], [Colour], [NumberOfDoors]) VALUES (35, N'QG09 2WQ', N'Blue', 4)\r\n",
                "\tINSERT INTO [dbo].[Car] ([CarId], [Registration], [Colour], [NumberOfDoors]) VALUES (36, N'LU12 6QD', N'Blue', 4)\r\n",
                "\tINSERT INTO [dbo].[Car] ([CarId], [Registration], [Colour], [NumberOfDoors]) VALUES (37, N'MQ42 5SP', Null, 4)\r\n",
                "\tINSERT INTO [dbo].[Car] ([CarId], [Registration], [Colour], [NumberOfDoors]) VALUES (38, N'YX57 3XJ', N'Black', 2)\r\n",
                "\tINSERT INTO [dbo].[Car] ([CarId], [Registration], [Colour], [NumberOfDoors]) VALUES (39, N'AD01 6TL', Null, 2)\r\n",
                "\tINSERT INTO [dbo].[Car] ([CarId], [Registration], [Colour], [NumberOfDoors]) VALUES (40, N'TE16 9CF', N'Black', 4)\r\n",
                "\tINSERT INTO [dbo].[Car] ([CarId], [Registration], [Colour], [NumberOfDoors]) VALUES (41, N'LK32 2SD', N'Red', 2)\r\n",
                "\tINSERT INTO [dbo].[Car] ([CarId], [Registration], [Colour], [NumberOfDoors]) VALUES (42, N'QK84 2NV', N'White', 4)\r\n",
                "\tINSERT INTO [dbo].[Car] ([CarId], [Registration], [Colour], [NumberOfDoors]) VALUES (43, N'UX03 2PQ', N'Silver', 2)\r\n",
                "\tINSERT INTO [dbo].[Car] ([CarId], [Registration], [Colour], [NumberOfDoors]) VALUES (44, N'UD52 2NC', N'Blue', 4)\r\n",
                "\tINSERT INTO [dbo].[Car] ([CarId], [Registration], [Colour], [NumberOfDoors]) VALUES (45, N'HF19 3FG', N'Red', 4)\r\n",
                "\tINSERT INTO [dbo].[Car] ([CarId], [Registration], [Colour], [NumberOfDoors]) VALUES (46, N'BX36 6EY', N'Red', 4)\r\n",
                "\tINSERT INTO [dbo].[Car] ([CarId], [Registration], [Colour], [NumberOfDoors]) VALUES (47, N'WP59 4SQ', N'Silver', 4)\r\n",
                "\tINSERT INTO [dbo].[Car] ([CarId], [Registration], [Colour], [NumberOfDoors]) VALUES (48, N'UH99 6MK', N'Silver', 2)\r\n",
                "\tINSERT INTO [dbo].[Car] ([CarId], [Registration], [Colour], [NumberOfDoors]) VALUES (49, N'JE37 8HS', N'White', 4)\r\n",
                "\tINSERT INTO [dbo].[Car] ([CarId], [Registration], [Colour], [NumberOfDoors]) VALUES (50, N'AC41 9DS', N'White', 2)\r\n",
                "\tINSERT INTO [dbo].[Car] ([CarId], [Registration], [Colour], [NumberOfDoors]) VALUES (51, N'TK24 8XE', N'Silver', 2)\r\n",
                "\tINSERT INTO [dbo].[Car] ([CarId], [Registration], [Colour], [NumberOfDoors]) VALUES (52, N'WL48 6BA', N'Silver', 2)\r\n",
                "\tINSERT INTO [dbo].[Car] ([CarId], [Registration], [Colour], [NumberOfDoors]) VALUES (53, N'SW26 8RV', N'Red', 4)\r\n",
                "\tINSERT INTO [dbo].[Car] ([CarId], [Registration], [Colour], [NumberOfDoors]) VALUES (54, N'FD56 0DE', N'Blue', 2)\r\n",
                "\tINSERT INTO [dbo].[Car] ([CarId], [Registration], [Colour], [NumberOfDoors]) VALUES (55, N'VD32 0HP', N'Red', 4)\r\n",
                "\tINSERT INTO [dbo].[Car] ([CarId], [Registration], [Colour], [NumberOfDoors]) VALUES (56, N'GY08 5GN', Null, 4)\r\n",
                "\tINSERT INTO [dbo].[Car] ([CarId], [Registration], [Colour], [NumberOfDoors]) VALUES (57, N'XB23 8SS', N'Red', 2)\r\n",
                "\tINSERT INTO [dbo].[Car] ([CarId], [Registration], [Colour], [NumberOfDoors]) VALUES (58, N'NT35 2SQ', Null, 2)\r\n",
                "\tINSERT INTO [dbo].[Car] ([CarId], [Registration], [Colour], [NumberOfDoors]) VALUES (59, N'FV77 2RP', N'White', 4)\r\n",
                "\tINSERT INTO [dbo].[Car] ([CarId], [Registration], [Colour], [NumberOfDoors]) VALUES (60, N'PC23 2MW', Null, 4)\r\n",
                "\tINSERT INTO [dbo].[Car] ([CarId], [Registration], [Colour], [NumberOfDoors]) VALUES (61, N'CY29 9MF', N'Blue', 4)\r\n",
                "\tINSERT INTO [dbo].[Car] ([CarId], [Registration], [Colour], [NumberOfDoors]) VALUES (62, N'PD35 6WU', N'Red', 4)\r\n",
                "\tINSERT INTO [dbo].[Car] ([CarId], [Registration], [Colour], [NumberOfDoors]) VALUES (63, N'AF37 0EX', Null, 4)\r\n",
                "\tINSERT INTO [dbo].[Car] ([CarId], [Registration], [Colour], [NumberOfDoors]) VALUES (64, N'NE17 0FN', Null, 2)\r\n",
                "\tINSERT INTO [dbo].[Car] ([CarId], [Registration], [Colour], [NumberOfDoors]) VALUES (65, N'XM17 9GM', N'White', 2)\r\n",
                "\tINSERT INTO [dbo].[Car] ([CarId], [Registration], [Colour], [NumberOfDoors]) VALUES (66, N'AE22 7KA', N'Blue', 4)\r\n",
                "\tINSERT INTO [dbo].[Car] ([CarId], [Registration], [Colour], [NumberOfDoors]) VALUES (67, N'QA48 4PB', N'Blue', 2)\r\n",
                "\tINSERT INTO [dbo].[Car] ([CarId], [Registration], [Colour], [NumberOfDoors]) VALUES (68, N'RM52 9NF', N'Black', 4)\r\n",
                "\tINSERT INTO [dbo].[Car] ([CarId], [Registration], [Colour], [NumberOfDoors]) VALUES (69, N'DG79 7EX', N'Black', 4)\r\n",
                "\tINSERT INTO [dbo].[Car] ([CarId], [Registration], [Colour], [NumberOfDoors]) VALUES (70, N'HK32 7VP', Null, 2)\r\n",
                "\tINSERT INTO [dbo].[Car] ([CarId], [Registration], [Colour], [NumberOfDoors]) VALUES (71, N'HK23 1QQ', Null, 4)\r\n",
                "\tINSERT INTO [dbo].[Car] ([CarId], [Registration], [Colour], [NumberOfDoors]) VALUES (72, N'PG26 1XH', Null, 2)\r\n",
                "\tINSERT INTO [dbo].[Car] ([CarId], [Registration], [Colour], [NumberOfDoors]) VALUES (73, N'PW19 0KN', N'Black', 2)\r\n",
                "\tINSERT INTO [dbo].[Car] ([CarId], [Registration], [Colour], [NumberOfDoors]) VALUES (74, N'WT96 4PW', N'Silver', 4)\r\n",
                "\tINSERT INTO [dbo].[Car] ([CarId], [Registration], [Colour], [NumberOfDoors]) VALUES (75, N'LT18 1SV', N'Blue', 4)\r\n",
                "\tINSERT INTO [dbo].[Car] ([CarId], [Registration], [Colour], [NumberOfDoors]) VALUES (76, N'QQ38 0FT', N'Blue', 2)\r\n",
                "\tINSERT INTO [dbo].[Car] ([CarId], [Registration], [Colour], [NumberOfDoors]) VALUES (77, N'NX17 4CY', N'Red', 2)\r\n",
                "\tINSERT INTO [dbo].[Car] ([CarId], [Registration], [Colour], [NumberOfDoors]) VALUES (78, N'UD78 0RL', N'Silver', 4)\r\n",
                "\tINSERT INTO [dbo].[Car] ([CarId], [Registration], [Colour], [NumberOfDoors]) VALUES (79, N'VE29 4NW', N'Red', 2)\r\n",
                "\tINSERT INTO [dbo].[Car] ([CarId], [Registration], [Colour], [NumberOfDoors]) VALUES (80, N'NP01 2DD', N'Silver', 2)\r\n",
                "\tINSERT INTO [dbo].[Car] ([CarId], [Registration], [Colour], [NumberOfDoors]) VALUES (81, N'BY95 6TT', N'White', 2)\r\n",
                "\tINSERT INTO [dbo].[Car] ([CarId], [Registration], [Colour], [NumberOfDoors]) VALUES (82, N'JR10 2NH', N'Black', 2)\r\n",
                "\tINSERT INTO [dbo].[Car] ([CarId], [Registration], [Colour], [NumberOfDoors]) VALUES (83, N'SC55 1NP', Null, 2)\r\n",
                "\tINSERT INTO [dbo].[Car] ([CarId], [Registration], [Colour], [NumberOfDoors]) VALUES (84, N'LY99 5DF', N'Silver', 4)\r\n",
                "\tINSERT INTO [dbo].[Car] ([CarId], [Registration], [Colour], [NumberOfDoors]) VALUES (85, N'FR75 6HY', Null, 2)\r\n",
                "\tINSERT INTO [dbo].[Car] ([CarId], [Registration], [Colour], [NumberOfDoors]) VALUES (86, N'SB36 2MA', N'Silver', 2)\r\n",
                "\tINSERT INTO [dbo].[Car] ([CarId], [Registration], [Colour], [NumberOfDoors]) VALUES (87, N'CB46 6KG', N'Red', 4)\r\n",
                "\tINSERT INTO [dbo].[Car] ([CarId], [Registration], [Colour], [NumberOfDoors]) VALUES (88, N'VD04 7DK', N'Silver', 2)\r\n",
                "\tINSERT INTO [dbo].[Car] ([CarId], [Registration], [Colour], [NumberOfDoors]) VALUES (89, N'TL11 2KU', N'Silver', 4)\r\n",
                "\tINSERT INTO [dbo].[Car] ([CarId], [Registration], [Colour], [NumberOfDoors]) VALUES (90, N'RW33 5SU', Null, 4)\r\n",
                "\tINSERT INTO [dbo].[Car] ([CarId], [Registration], [Colour], [NumberOfDoors]) VALUES (91, N'XW21 5YN', N'Silver', 4)\r\n",
                "\tINSERT INTO [dbo].[Car] ([CarId], [Registration], [Colour], [NumberOfDoors]) VALUES (92, N'EJ37 4KK', N'White', 4)\r\n",
                "\tINSERT INTO [dbo].[Car] ([CarId], [Registration], [Colour], [NumberOfDoors]) VALUES (93, N'UM88 0GG', N'Silver', 4)\r\n",
                "\tINSERT INTO [dbo].[Car] ([CarId], [Registration], [Colour], [NumberOfDoors]) VALUES (94, N'LC09 4FE', N'Blue', 4)\r\n",
                "\tINSERT INTO [dbo].[Car] ([CarId], [Registration], [Colour], [NumberOfDoors]) VALUES (95, N'LD10 2CS', N'White', 4)\r\n",
                "\tINSERT INTO [dbo].[Car] ([CarId], [Registration], [Colour], [NumberOfDoors]) VALUES (96, N'RG50 0JP', N'Black', 2)\r\n",
                "\tINSERT INTO [dbo].[Car] ([CarId], [Registration], [Colour], [NumberOfDoors]) VALUES (97, N'BE84 8VB', Null, 4)\r\n",
                "\tINSERT INTO [dbo].[Car] ([CarId], [Registration], [Colour], [NumberOfDoors]) VALUES (98, N'MX56 4PP', N'Black', 2)\r\n",
                "\tINSERT INTO [dbo].[Car] ([CarId], [Registration], [Colour], [NumberOfDoors]) VALUES (99, N'CX06 8LU', Null, 2)\r\n",
                "\tINSERT INTO [dbo].[Car] ([CarId], [Registration], [Colour], [NumberOfDoors]) VALUES (100, N'WR67 3KA', N'Black', 4)\r\n",
                "\tSET IDENTITY_INSERT [dbo].[Car] OFF\r\n",
                "\tgo"
            ],
            "metadata": {
                "azdata_cell_guid": "f12320a2-307b-42aa-9e24-f80e71cb4055",
                "language": "sql",
                "tags": []
            },
            "outputs": [],
            "execution_count": null
        },
        {
            "cell_type": "markdown",
            "source": [
                "The dbo.Car table contains cars of a number of colours, and some where the colour is unknown, or Null. This is the fields we will concentrats on in this lesson."
            ],
            "metadata": {
                "azdata_cell_guid": "b9387a7b-7d02-4551-b086-0ec3bbe9c392"
            },
            "attachments": {}
        },
        {
            "cell_type": "code",
            "source": [
                "Select\t* \r\n",
                "from\t[dbo].[Car] \r\n",
                "order by Colour"
            ],
            "metadata": {
                "azdata_cell_guid": "b57643b0-1044-478b-a55e-a3f297b45216",
                "language": "sql"
            },
            "outputs": [],
            "execution_count": null
        },
        {
            "cell_type": "markdown",
            "source": [
                "## Does Null = Null?\n",
                "\n",
                "Under ANSI standards the answer is no, Null is unknown, and it is not possible to say that 2 unknown items are the same. Imagine receiving 2 identical, unmarked, brown boxes; without additional information can you state that the contents of both boxes are the same? No, of course not. This impacts on any comparisons or joins of fields containing nulls.\n",
                "\n",
                "The easiest way to demonstate this is by trying to select all the records with a null colour fields:\n",
                ""
            ],
            "metadata": {
                "azdata_cell_guid": "383a1881-3da7-4ceb-8561-1b572f2551af"
            },
            "attachments": {}
        },
        {
            "cell_type": "code",
            "source": [
                "Select\t* \r\n",
                "from\t[dbo].[Car] \r\n",
                "Where\tcolour = null"
            ],
            "metadata": {
                "azdata_cell_guid": "045b60c8-9ef4-44b1-8f85-1e116b4540fa",
                "language": "sql"
            },
            "outputs": [],
            "execution_count": null
        },
        {
            "cell_type": "markdown",
            "source": [
                "You will notice that no data is returned, as we are essentially trying to compare an unknown value in the colour field to an unknown value. Contrast this whith what happens when we search for a known value."
            ],
            "metadata": {
                "azdata_cell_guid": "2cb2bbe6-0773-45d8-b251-02609b662654"
            },
            "attachments": {}
        },
        {
            "cell_type": "code",
            "source": [
                "Select\t* \r\n",
                "from\t[dbo].[Car] \r\n",
                "Where\tcolour = 'Black'"
            ],
            "metadata": {
                "azdata_cell_guid": "418798aa-f2d4-4e03-9ad1-f26953351b16",
                "language": "sql",
                "tags": []
            },
            "outputs": [],
            "execution_count": null
        },
        {
            "cell_type": "markdown",
            "source": [
                "## Identifying Nulls\r\n",
                "\r\n",
                "So how do we identify records with a null value if we cannot select where the field = Null? The value is not equal to unknown, it is unknown. It **is Null**, and that is exactly the syntax we use to identify null values.\r\n",
                "\r\n",
                ""
            ],
            "metadata": {
                "language": "sql",
                "azdata_cell_guid": "40447c13-0be5-4a7d-800f-c62113159682"
            },
            "attachments": {}
        },
        {
            "cell_type": "code",
            "source": [
                "Select\t* \r\n",
                "from\t[dbo].[Car] \r\n",
                "Where\tcolour is null"
            ],
            "metadata": {
                "language": "sql",
                "azdata_cell_guid": "d08a5b69-b587-47d0-b2e7-45ea896c0c7e"
            },
            "outputs": [],
            "execution_count": null
        },
        {
            "cell_type": "markdown",
            "source": [
                "## Replacing Nulls\n",
                "\n",
                "Often the easiest way to handle null is to replace them with a value that you do know. and for this we use the ISNULL function. The ISNULL functions takes 2 parameters:\n",
                "1. The input containing nulls, usually a fields name\n",
                "2. The value to present in the place of null"
            ],
            "metadata": {
                "azdata_cell_guid": "d10e6485-7809-4fcc-9bea-9a0e12b896bd"
            },
            "attachments": {}
        },
        {
            "cell_type": "code",
            "source": [
                "Select\tCarId,\r\n",
                "\t\tRegistration,\r\n",
                "\t\tISNULL(Colour, 'Unknown') Colour,\r\n",
                "\t\tNumberOfDoors\t\r\n",
                "from\t[dbo].[Car] \r\n",
                "Where\tISNULL(Colour, 'Unknown') = 'Unknown'"
            ],
            "metadata": {
                "azdata_cell_guid": "3940794b-904b-4c4a-8fe5-39b6e1de0e46",
                "language": "sql",
                "tags": []
            },
            "outputs": [],
            "execution_count": null
        }
    ]
}