{
    "metadata": {
        "kernelspec": {
            "name": "SQL",
            "display_name": "SQL",
            "language": "sql"
        },
        "language_info": {
            "name": "sql",
            "version": ""
        }
    },
    "nbformat_minor": 2,
    "nbformat": 4,
    "cells": [
        {
            "cell_type": "markdown",
            "source": [
                "![Bulltech Solutions](.\\Images\\Bulltech.jpg)"
            ],
            "metadata": {
                "azdata_cell_guid": "28035cce-512a-4b44-9e1a-71ea71a38dda"
            },
            "attachments": {}
        }
    ]
}