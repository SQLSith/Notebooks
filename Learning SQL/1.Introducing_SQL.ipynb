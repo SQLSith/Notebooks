{
    "metadata": {
        "kernelspec": {
            "name": "SQL",
            "display_name": "SQL",
            "language": "sql"
        },
        "language_info": {
            "name": "sql",
            "version": ""
        }
    },
    "nbformat_minor": 2,
    "nbformat": 4,
    "cells": [
        {
            "cell_type": "markdown",
            "source": [
                "![Alt text](<Images/Bulltech.jpg>)\r\n",
                "\r\n",
                "# Introducing SQL \r\n",
                "\r\n",
                "SQL (Structured Query Language) is an industry standard language for defining, manipulating and querying relational data. Relational data being, as the name suggests, data items that are related to one and other.\r\n",
                "\r\n",
                "SQL is a relatively easy language to learn, and is one of the most popular languages used by data professionals.\r\n",
                "\r\n",
                "Whilst there are a number of SQL platforms and dialect, I will be concentrating on the use of TSQL with SQL Server.\r\n",
                "\r\n",
                "\r\n",
                "# Fundamental Concepts\r\n",
                "\r\n",
                "A **Database** is a collection of **Tables**, and other related objects, which either fascilitate the storage or manipulation of data.\r\n",
                "\r\n",
                "Data is stored in **Tables** which contains **rows** (records) and **columns** (fields). \r\n",
                "\r\n",
                "A **row** is a collection of data items relating to a single entity.\r\n",
                "\r\n",
                "![Alt text](<Images/Row.jpg>)\r\n",
                "\r\n",
                "A **column** is a particular type of data item, which can be populated for any **row** in the **table**.\r\n",
                "\r\n",
                "![Alt text](<Images/Column.jpg>)\r\n",
                "\r\n",
                "\r\n",
                "# How Lessons Will Work\r\n",
                "\r\n",
                "Each lesson will be represented by a notebook. Each notebook which will contain both a description of the topic being taught, and a number of executable scripts and exercises allowing you to practice as you learn."
            ],
            "metadata": {
                "azdata_cell_guid": "28035cce-512a-4b44-9e1a-71ea71a38dda"
            },
            "attachments": {}
        }
    ]
}