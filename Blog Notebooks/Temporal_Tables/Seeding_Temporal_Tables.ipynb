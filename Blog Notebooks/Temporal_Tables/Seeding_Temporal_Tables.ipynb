{
    "metadata": {
        "kernelspec": {
            "name": "SQL",
            "display_name": "SQL",
            "language": "sql"
        },
        "language_info": {
            "name": "sql",
            "version": ""
        }
    },
    "nbformat_minor": 2,
    "nbformat": 4,
    "cells": [
        {
            "cell_type": "markdown",
            "source": [
                "# Seeding Temporal Tables \r\n",
                ""
            ],
            "metadata": {
                "azdata_cell_guid": "7e875cca-c720-4523-8ac0-7e63d3c5caee"
            }
        },
        {
            "cell_type": "markdown",
            "source": [
                "Following on from my earlier posts on [Temporal Tables](.\\Temporal_Tables_And_GDPR.ipynb) and Generating Test Data; I thought it would be useful to address the issues relating to populating temporal tables with test data.\r\n",
                "\r\n",
                "One of the fundamental concepts which you need to understand when dealing with temporal tables is that they system managed, and intended to provide an indelible record how data appeared at any period in time. \r\n",
                "\r\n",
                "There are times however when you may have a need to prepopulate a temporal table, either when migrating history to a new temporal table, or when setting up test scenarios. To do this you need to overcome a couple of restrictions:\r\n",
                "\r\n",
                "1. The history table is read-only; all inserts, deletes and updates will be blocked.\r\n",
                "2.The current data table has two read-only fields; specifically, the Valid From and Valid To fields, which indelibly define the time range for which a specific version of a record was valid.\r\n",
                ""
            ],
            "metadata": {
                "azdata_cell_guid": "2420d243-becc-48e7-833c-682f47edd413"
            }
        },
        {
            "cell_type": "markdown",
            "source": [
                "## Preparing the Demo"
            ],
            "metadata": {
                "azdata_cell_guid": "4da9ca8e-5549-48d6-b995-b3a3caa07ca2"
            }
        },
        {
            "cell_type": "markdown",
            "source": [
                "The following script creates the temporal table used in my earlier post:"
            ],
            "metadata": {
                "azdata_cell_guid": "99f1f07f-e941-4227-a3da-58a95bc191c1"
            }
        },
        {
            "cell_type": "code",
            "source": [
                "if not exists (Select * from Information_Schema.Schemata where Schema_Name = 'History')\r\n",
                "begin\r\n",
                "\texec ('Create Schema History')\r\n",
                "\t;\r\n",
                "end\r\n",
                "go\r\n",
                "\r\n",
                "Create table History.Applicant\r\n",
                "(\r\n",
                "\tApplicantID int not null,\r\n",
                "\tForename varchar(50),\r\n",
                "\tSurname varchar(50),\r\n",
                "\tDateOfBirth date,\r\n",
                "\tValidFrom datetime2 NOT NULL,  \r\n",
                "\tValidTo datetime2 NOT NULL \r\n",
                ") with (Data_Compression = Page)\r\n",
                "go\r\n",
                "\r\n",
                "\r\n",
                "\r\n",
                "if not exists (Select * from Information_Schema.Schemata where Schema_Name = 'CRM')\r\n",
                "begin\r\n",
                "\texec ('Create Schema CRM')\r\n",
                "\t;\r\n",
                "end\r\n",
                "go\r\n",
                "\r\n",
                "Create table CRM.Applicant\r\n",
                "(\t\r\n",
                "\tApplicantID int identity(1,1) primary key,\r\n",
                "\tForename varchar(50),\r\n",
                "\tSurname varchar(50),\r\n",
                "\tDateOfBirth date,\r\n",
                "\tValidFrom datetime2 GENERATED ALWAYS AS ROW START NOT NULL , \r\n",
                "\tValidTo datetime2 GENERATED ALWAYS AS ROW END NOT NULL ,    \r\n",
                "\tPERIOD FOR SYSTEM_TIME (ValidFrom,ValidTo) \r\n",
                ") with (Data_Compression = Page, SYSTEM_VERSIONING = ON (HISTORY_TABLE = History.Applicant))\r\n",
                "Go\r\n",
                ""
            ],
            "metadata": {
                "azdata_cell_guid": "b65dda17-69fb-4f7c-b9e1-6d476c87140b",
                "tags": [
                    "hide_input"
                ]
            },
            "outputs": [],
            "execution_count": null
        },
        {
            "cell_type": "markdown",
            "source": [
                "## The scenario\r\n",
                "I need to be able to populate this table with a small number of backdated records to support my testing. I would like to set up details of the following 2 applicants:\r\n",
                "1.\tJon Doe – There should only be one version of this applicant, and it should have been valid from the start of the year.\r\n",
                "2.\tJane Dough – There should be 2 versions of this applicant; the first valid from the start of the year, and the second valid from the start of June.\r\n",
                "\r\n",
                "The following script defines these records:\r\n",
                ""
            ],
            "metadata": {
                "azdata_cell_guid": "c2531a86-4a88-4c7a-9fc3-d7f6b3720ed9"
            }
        },
        {
            "cell_type": "code",
            "source": [
                "Set identity_Insert CRM.Applicant ON\n",
                "go\n",
                "insert CRM.Applicant (ApplicantID, Forename, Surname, DateOfBirth, ValidFrom, ValidTo)\n",
                "values  (1, 'Jon','Doe','1972-08-12', '2020-01-01 00:00:00', '9999-12-31 23:59:59.9999999'),\n",
                "        (2, 'Jane','Dough','1977-05-23', '2020-06-01 00:00:00', '9999-12-31 23:59:59.9999999')\n",
                "go\n",
                "Set identity_Insert CRM.Applicant OFF\n",
                "go\n",
                "insert History.Applicant (ApplicantID, Forename, Surname, DateOfBirth, ValidFrom, ValidTo)\n",
                "values  (2, 'Jane','Doe','1976-05-23', '2020-01-01 00:00:00', '2020-05-31 23:59:59.9999999')\n",
                "go\n",
                ""
            ],
            "metadata": {
                "azdata_cell_guid": "2c6dd503-1f7e-4344-89bc-c7b8ae901bc6",
                "tags": [
                    "hide_input"
                ]
            },
            "outputs": [],
            "execution_count": null
        },
        {
            "cell_type": "markdown",
            "source": [
                "Executing this script returns the following errors:\r\n",
                "\r\n",
                "```\r\n",
                "Msg 13536, Level 16, State 1, Line 45\r\n",
                "Cannot insert an explicit value into a GENERATED ALWAYS column in table 'Sandbox.CRM.Applicant'. Use INSERT with a column list to exclude the GENERATED ALWAYS column, or insert a DEFAULT into GENERATED ALWAYS column.\r\n",
                "\r\n",
                "Msg 13559, Level 16, State 1, Line 55\r\n",
                "Cannot insert rows in a temporal history table 'Sandbox.History.Applicant'.\r\n",
                "```\r\n",
                "The first error relates to the attempt to insert data in to CRM.Applicant with predefined values for ValidFrom and ValidTo, which are read-only fields, and the second relates to the insertion of data in to History.Applicant, which is a read-only table.\r\n",
                "\r\n",
                "Overcoming both of these issues require that you disable the system versioning on your table, essentially decoupling your current and history tables. This can be accomplished with the following script:\r\n",
                ""
            ],
            "metadata": {
                "azdata_cell_guid": "b49c3e50-5071-41ca-b6b1-ce1be64c7491"
            }
        },
        {
            "cell_type": "code",
            "source": [
                "ALTER TABLE CRM.Applicant SET ( SYSTEM_VERSIONING = OFF  )\r\n",
                "GO\r\n",
                ""
            ],
            "metadata": {
                "azdata_cell_guid": "5cfe6369-941b-4d8a-96d0-221bad5d6a5d",
                "tags": [
                    "hide_input"
                ]
            },
            "outputs": [],
            "execution_count": null
        },
        {
            "cell_type": "markdown",
            "source": [
                "Despite the system versioning now being inactive, we still have the problem of the ValidFrom and ValidTo fields on CRM.Applicant being read-only. These fields are defined as being part of a Period, which restricts them to being automatically populated by SQL Server. This too needs to be removed:"
            ],
            "metadata": {
                "azdata_cell_guid": "9749aba3-e600-451d-9449-b69773c74fe8"
            }
        },
        {
            "cell_type": "code",
            "source": [
                "ALTER TABLE CRM.Applicant Drop Period FOR SYSTEM_TIME\r\n",
                "GO\r\n",
                ""
            ],
            "metadata": {
                "azdata_cell_guid": "66319c2a-127b-4ec6-bc8a-33230d0dce0d",
                "tags": [
                    "hide_input"
                ]
            },
            "outputs": [],
            "execution_count": null
        },
        {
            "cell_type": "markdown",
            "source": [
                "Running our inserts now will be successful:"
            ],
            "metadata": {
                "azdata_cell_guid": "abb7d33a-58a3-48f8-b6b4-6c1648aa0167"
            }
        },
        {
            "cell_type": "code",
            "source": [
                "Set identity_Insert CRM.Applicant ON\r\n",
                "go\r\n",
                "\r\n",
                "insert CRM.Applicant (ApplicantID, Forename, Surname, DateOfBirth, ValidFrom, ValidTo)\r\n",
                "values  (1, 'Jon','Doe','1972-08-12', '2020-01-01 00:00:00', '9999-12-31 23:59:59 .9999999'),\r\n",
                "        (2, 'Jane','Dough','1977-05-23', '2020-06-01 00:00:00', '9999-12-31 23:59:59 .9999999')\r\n",
                "go\r\n",
                "\r\n",
                "Set identity_Insert CRM.Applicant OFF\r\n",
                "go\r\n",
                "\r\n",
                "\r\n",
                "\r\n",
                "insert History.Applicant (ApplicantID, Forename, Surname, DateOfBirth, ValidFrom, ValidTo)\r\n",
                "values  (2, 'Jane','Doe','1976-05-23', '2020-01-01 00:00:00', '2020-05-31 23:59:59 .9999999')\r\n",
                "go\r\n",
                "\r\n",
                "Select * from CRM.Applicant\r\n",
                "Select * from History.Applicant\r\n",
                ""
            ],
            "metadata": {
                "azdata_cell_guid": "73be5188-46ca-4d58-9ba9-838a1881c989",
                "tags": [
                    "hide_input"
                ]
            },
            "outputs": [],
            "execution_count": null
        },
        {
            "cell_type": "markdown",
            "source": [
                "Now that we have our data as we want it, we need to reinstate the system versioning. This too is a two-step process. Firstly, we need to recreate the period on CRM.Applicant:"
            ],
            "metadata": {
                "azdata_cell_guid": "e52f03d9-4736-4d2c-b539-c01a74538c57"
            }
        },
        {
            "cell_type": "code",
            "source": [
                "ALTER TABLE CRM.Applicant Add PERIOD FOR SYSTEM_TIME ([ValidFrom], [ValidTo])\r\n",
                "Go\r\n",
                ""
            ],
            "metadata": {
                "azdata_cell_guid": "4c9c9406-3e36-48d4-b657-4d353af4763c",
                "tags": [
                    "hide_input"
                ]
            },
            "outputs": [],
            "execution_count": null
        },
        {
            "cell_type": "markdown",
            "source": [
                "And then we must re-link the tables:"
            ],
            "metadata": {
                "azdata_cell_guid": "c08a5e4a-1f70-438e-8eaf-372ea686bd75"
            }
        },
        {
            "cell_type": "code",
            "source": [
                "ALTER TABLE CRM.Applicant  SET ( SYSTEM_VERSIONING = ON ( HISTORY_TABLE = History.Applicant )  )\r\n",
                "GO\r\n",
                ""
            ],
            "metadata": {
                "azdata_cell_guid": "c63e066a-e92d-43fd-b486-95108f0bee3e",
                "tags": [
                    "hide_input"
                ]
            },
            "outputs": [],
            "execution_count": null
        },
        {
            "cell_type": "markdown",
            "source": [
                "It must be noted that dates within the history table are validated at this stage, and any gaps between the maximum ValidTo values in History.Applicant and the ValidFrom value of their respective record in CRM.Applicant will cause this to fail.\n",
                "Happy SQLing!\n",
                ""
            ],
            "metadata": {
                "azdata_cell_guid": "1d87c751-e5a8-4b58-a3d3-ed8a39796210"
            }
        }
    ]
}