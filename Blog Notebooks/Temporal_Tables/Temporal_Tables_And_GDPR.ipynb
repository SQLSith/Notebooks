{
    "metadata": {
        "kernelspec": {
            "name": "SQL",
            "display_name": "SQL",
            "language": "sql"
        },
        "language_info": {
            "name": "sql",
            "version": ""
        }
    },
    "nbformat_minor": 2,
    "nbformat": 4,
    "cells": [
        {
            "cell_type": "markdown",
            "source": [
                "# Temporal Tables (and GDPR)"
            ],
            "metadata": {
                "azdata_cell_guid": "85a79d21-6c42-4efb-8f05-d0f6980a9697"
            }
        },
        {
            "cell_type": "markdown",
            "source": [
                "Temporal, or System Versioned, Tables were introduced in SQL 2016, and are way of retaining a full change history on a table. When an existing record is changed, a record is added to a separate history table, showing how the record looked before the change, and the period for which that version of the record existed. In essence, it is a way of automatically producing a type 4 slowly changing dimension.\r\n",
                "\r\n",
                "To produce a Temporal Table you first need a history table. This step can be skipped, and the history table  automatically generated with a system generated name, but I prefer for my tables to be descriptively named.\r\n",
                "\r\n",
                "​The following script will generate my history table:"
            ],
            "metadata": {
                "azdata_cell_guid": "e75fb760-ba94-417d-bac4-d8dc37ed1edd"
            }
        },
        {
            "cell_type": "code",
            "source": [
                "if not exists (Select * from Information_Schema.Schemata where Schema_Name = 'History')\r\n",
                "begin\r\n",
                "\texec ('Create Schema History')\r\n",
                "\t;\r\n",
                "end\r\n",
                "go\r\n",
                "\r\n",
                "Create table History.Applicant\r\n",
                "(\r\n",
                "\tApplicantID int not null,\r\n",
                "\tForename varchar(50),\r\n",
                "\tSurname varchar(50),\r\n",
                "\tDateOfBirth date,\r\n",
                "\tValidFrom datetime2 NOT NULL,  \r\n",
                "\tValidTo datetime2 NOT NULL \r\n",
                ") with (Data_Compression = Page)\r\n",
                "go\r\n",
                ""
            ],
            "metadata": {
                "azdata_cell_guid": "0a95a06b-3a5d-467b-9109-bca71e53d225",
                "tags": [
                    "hide_input"
                ]
            },
            "outputs": [],
            "execution_count": null
        },
        {
            "cell_type": "markdown",
            "source": [
                "The important thing to note about the history table, is that it must have a period start and end date of type datetime2, and it must not have primary or foreign keys, check constraints, or identity fields. It is recommended that the history tables is clustered over the Valid From and To fields, and this is automatically applied on system generated tables.\r\n",
                "\r\n",
                "Next we need to build a table to hold our current data table:"
            ],
            "metadata": {
                "azdata_cell_guid": "7c8ae132-5099-4b6a-bf48-ad92d12fde85"
            }
        },
        {
            "cell_type": "code",
            "source": [
                "if not exists (Select * from Information_Schema.Schemata where Schema_Name = 'CRM')\r\n",
                "begin\r\n",
                "\texec ('Create Schema CRM')\r\n",
                "\t;\r\n",
                "end\r\n",
                "go\r\n",
                "\r\n",
                "Create table CRM.Applicant\r\n",
                "(\t\r\n",
                "\tApplicantID int identity(1,1) primary key,\r\n",
                "\tForename varchar(50),\r\n",
                "\tSurname varchar(50),\r\n",
                "\tDateOfBirth date,\r\n",
                "\tValidFrom datetime2 GENERATED ALWAYS AS ROW START NOT NULL , \r\n",
                "\tValidTo datetime2 GENERATED ALWAYS AS ROW END NOT NULL ,    \r\n",
                "\tPERIOD FOR SYSTEM_TIME (ValidFrom,ValidTo) \r\n",
                ") with (Data_Compression = Page, SYSTEM_VERSIONING = ON (HISTORY_TABLE = History.Applicant))\r\n",
                "go"
            ],
            "metadata": {
                "azdata_cell_guid": "418b8169-714f-4b01-b8b4-64921dab0e92",
                "tags": [
                    "hide_input"
                ]
            },
            "outputs": [],
            "execution_count": null
        },
        {
            "cell_type": "markdown",
            "source": [
                "This table must have:\r\n",
                "* A primary key\r\n",
                "* A pair of fields, of type datetime2, to hold the valid from and to periods. These fields will be automatically populated for new and modified records\r\n",
                "* A PERIOD FOR SYSTEM_TIME statement, identifying your period fields\r\n",
                "​* The SYSTEM_VERSIONING = ON statement, which enabled the versioning.\r\n",
                "\r\n",
                "​Omitting the history table from the With clause results in a system generated table being created. \r\n",
                "\r\n",
                "​In SSMS's object explorer the history tables are not visible in their own right. Instead, they are displayed as a node under the main table."
            ],
            "metadata": {
                "azdata_cell_guid": "8438ea0a-50cb-4a4d-a291-fbc8a2c55057"
            }
        },
        {
            "cell_type": "markdown",
            "source": [
                "![Temporal Table](./Images/temporal-history-table_orig.png \"Temporal Table\")"
            ],
            "metadata": {
                "azdata_cell_guid": "290add16-952b-4ba0-a950-b3d6f72aad29"
            }
        },
        {
            "cell_type": "markdown",
            "source": [
                "To demonstrate the way the temporal table works, I have run the following workload:\r\n",
                "\r\n",
                "(Note: This query will run for 15 minutes to create a range of times. This can be modified by Waitfor statements, which specify a delay in the format Hour:Minute:Second.)"
            ],
            "metadata": {
                "azdata_cell_guid": "09e09a76-7697-43f1-befe-a38b8aaa981e"
            }
        },
        {
            "cell_type": "code",
            "source": [
                "insert CRM.Applicant (Forename, Surname, DateOfBirth)\r\n",
                "values  ('Jon','Doe','1972-08-12'),\r\n",
                "        ('Jane','Doe','1976-05-23')\r\n",
                "go\r\n",
                "\r\n",
                "Waitfor Delay '00:05:00'\r\n",
                "go\r\n",
                "\r\n",
                "Update  CRM.Applicant\r\n",
                "Set     DateOfBirth = '1977-05-23'\r\n",
                "where   ApplicantID = 2\r\n",
                "go\r\n",
                "\r\n",
                "Waitfor Delay '00:05:00'\r\n",
                "go\r\n",
                "\r\n",
                "Update  CRM.Applicant\r\n",
                "Set     Surname = 'Dough'\r\n",
                "where   ApplicantID = 2\r\n",
                "go\r\n",
                "\r\n",
                "Waitfor Delay '00:05:00'\r\n",
                "go\r\n",
                "\r\n",
                "Update  CRM.Applicant\r\n",
                "Set     Forename = 'Jayne'\r\n",
                "where   ApplicantID = 2\r\n",
                "go"
            ],
            "metadata": {
                "azdata_cell_guid": "82235a19-5bfb-4288-880e-ea15f6ba373a",
                "tags": [
                    "hide_input"
                ]
            },
            "outputs": [],
            "execution_count": null
        },
        {
            "cell_type": "markdown",
            "source": [
                "The current and history tables can be queried independently, with the history table showing every record version prior to the current version:"
            ],
            "metadata": {
                "azdata_cell_guid": "ed1a70f4-f168-47e8-8248-7124f3d4ed22"
            }
        },
        {
            "cell_type": "code",
            "source": [
                "​Select * from CRM.Applicant\r\n",
                "Select * from History.Applicant"
            ],
            "metadata": {
                "azdata_cell_guid": "c1a3395f-725d-475c-b156-f3f56b629037",
                "tags": [
                    "hide_input"
                ]
            },
            "outputs": [],
            "execution_count": null
        },
        {
            "cell_type": "markdown",
            "source": [
                "However; there is no need ever to query the history table at all, as you can interact with the history table transparently through the current table.\r\n",
                "\r\n",
                "The following query will return data as it was at a particular point in time:\r\n",
                "\r\n",
                "(Note: The valid time ranges in your data will reflect when you ran the script to populate your table; you will need to update the below query with an appropriate data and time)"
            ],
            "metadata": {
                "azdata_cell_guid": "6335f55b-2f18-47d0-a961-5c8eff67fc72"
            }
        },
        {
            "cell_type": "code",
            "source": [
                "Select  * \r\n",
                "from    CRM.Applicant\r\n",
                "FOR SYSTEM_TIME AS OF '2018-05-28 17:55:00'"
            ],
            "metadata": {
                "azdata_cell_guid": "3159fddb-1a69-44d0-b5f6-f70e44e3b17c",
                "tags": [
                    "hide_input"
                ]
            },
            "outputs": [],
            "execution_count": null
        },
        {
            "cell_type": "markdown",
            "source": [
                "![Results](./Images/temporal-2_orig.png \"Results\")"
            ],
            "metadata": {
                "azdata_cell_guid": "8a6fee27-ebf8-449b-9c75-88c5e20757f5"
            }
        },
        {
            "cell_type": "markdown",
            "source": [
                "The next query returns all valid row versions between 2 points in time:"
            ],
            "metadata": {
                "azdata_cell_guid": "9ae51b56-cde5-4dc4-b571-e6144268785c"
            }
        },
        {
            "cell_type": "code",
            "source": [
                "​Select  * \r\n",
                "from    CRM.Applicant\r\n",
                "FOR SYSTEM_TIME BETWEEN  '2018-05-28 17:57:00' AND '2018-05-28 18:05:00'"
            ],
            "metadata": {
                "azdata_cell_guid": "ee147d4b-928a-4b87-a1eb-44edb3e00e29",
                "tags": [
                    "hide_input"
                ]
            },
            "outputs": [],
            "execution_count": null
        },
        {
            "cell_type": "markdown",
            "source": [
                "![Results](./Images/temporal-3_orig.png \"Results\")"
            ],
            "metadata": {
                "azdata_cell_guid": "260b86a0-aa32-4578-9ebd-0c5a34f5545d"
            }
        },
        {
            "cell_type": "markdown",
            "source": [
                "This next query returns only those row versions that started and ended within a specified time period:"
            ],
            "metadata": {
                "azdata_cell_guid": "3b6fa4e8-47ee-4907-8b3b-b2d76ef660c5"
            }
        },
        {
            "cell_type": "code",
            "source": [
                "​Select  * \r\n",
                "from    CRM.Applicant\r\n",
                "FOR SYSTEM_TIME CONTAINED IN ('2018-05-28 17:57:00', '2018-05-28 18:05:00')"
            ],
            "metadata": {
                "azdata_cell_guid": "10236a9b-faf4-4ef2-9465-47fc57bae6ac",
                "tags": [
                    "hide_input"
                ]
            },
            "outputs": [],
            "execution_count": null
        },
        {
            "cell_type": "markdown",
            "source": [
                "![Results](./Images/temporal-4_orig.png \"Results\")"
            ],
            "metadata": {
                "azdata_cell_guid": "72d748bf-ca02-437c-a1cf-9e879b4239ef"
            }
        },
        {
            "cell_type": "markdown",
            "source": [
                "And this final query returns all row versions, whether current or not:"
            ],
            "metadata": {
                "azdata_cell_guid": "8b83aed7-e464-4608-b633-ba548c3239c2"
            }
        },
        {
            "cell_type": "code",
            "source": [
                "​Select  * \r\n",
                "from    CRM.Applicant\r\n",
                "FOR SYSTEM_TIME ALL "
            ],
            "metadata": {
                "azdata_cell_guid": "179fc732-5bfb-45c3-8c86-43b728798a26",
                "tags": [
                    "hide_input"
                ]
            },
            "outputs": [],
            "execution_count": null
        },
        {
            "cell_type": "markdown",
            "source": [
                "![Results](./Images/temporal-5_orig.png \"Results\")"
            ],
            "metadata": {
                "azdata_cell_guid": "ff6cdadc-7549-41c8-be8d-1225334fb97f"
            }
        },
        {
            "cell_type": "markdown",
            "source": [
                "## But how does this relate to GDPR?"
            ],
            "metadata": {
                "azdata_cell_guid": "305aa7af-c027-4cd4-80b4-9669cc0b8a5f"
            }
        },
        {
            "cell_type": "markdown",
            "source": [
                "Under GDPR regulations; you cannot retain data which permits identification of data subjects for any longer than is necessary, and so there will come a time when you have to delete this data. Lets give that a go..."
            ],
            "metadata": {
                "azdata_cell_guid": "63bb313c-14d2-4fa3-aaca-381b5a5b53be"
            }
        },
        {
            "cell_type": "code",
            "source": [
                "Delete CRM.Applicant where ApplicantID = 1\r\n",
                "go\r\n",
                "\r\n",
                "Select * from CRM.Applicant\r\n",
                "Select * from History.Applicant\r\n",
                "go"
            ],
            "metadata": {
                "azdata_cell_guid": "4ef4ead0-b1a1-4e1e-9dd0-e2bc63ddca67",
                "tags": [
                    "hide_input"
                ]
            },
            "outputs": [],
            "execution_count": null
        },
        {
            "cell_type": "markdown",
            "source": [
                "![Results](./Images/temporal-6_orig.png \"Results\")"
            ],
            "metadata": {
                "azdata_cell_guid": "4adfc4a9-e100-44b8-b0bc-f39bee43736d"
            }
        },
        {
            "cell_type": "markdown",
            "source": [
                "The record has been deleted from the current table, but is now showing in the history table. So what if I delete the applicant from the history table?"
            ],
            "metadata": {
                "azdata_cell_guid": "e6e0cd68-38e5-4b5a-9247-7b4857a1c430"
            }
        },
        {
            "cell_type": "code",
            "source": [
                "​Delete History.Applicant where ApplicantID = 1\r\n",
                "go"
            ],
            "metadata": {
                "azdata_cell_guid": "4b158b17-05b2-482a-94e7-2959876558a5",
                "tags": [
                    "hide_input"
                ]
            },
            "outputs": [],
            "execution_count": null
        },
        {
            "cell_type": "markdown",
            "source": [
                "![Results](./Images/temporal-7_orig.png \"Results\")"
            ],
            "metadata": {
                "azdata_cell_guid": "d3f45010-de89-4595-9bf3-63ed21746cbb"
            }
        },
        {
            "cell_type": "markdown",
            "source": [
                "And herein lies the problem. The history is indelible; it cannot be directly modified or deleted. This is a major issue with regards to GDPR. The only way to remove data when it is no longer required is to disable system versioning, delete the records, and re-enable system versioning."
            ],
            "metadata": {
                "azdata_cell_guid": "d28a6215-90c7-4239-a48d-e650b91a0a53"
            }
        },
        {
            "cell_type": "code",
            "source": [
                "Alter table CRM.Applicant\r\n",
                "Set (SYSTEM_VERSIONING = OFF)\r\n",
                "go\r\n",
                "\r\n",
                "Delete History.Applicant where ApplicantID = 1\r\n",
                "go\r\n",
                "\r\n",
                "Alter table CRM.Applicant\r\n",
                "Set (SYSTEM_VERSIONING = ON (HISTORY_TABLE = History.Applicant))\r\n",
                "go\r\n",
                "\r\n",
                "Select * from CRM.Applicant\r\n",
                "Select * from History.Applicant\r\n",
                "go"
            ],
            "metadata": {
                "azdata_cell_guid": "d99abe20-1294-44fc-a7db-b54bd6550834",
                "tags": [
                    "hide_input"
                ]
            },
            "outputs": [],
            "execution_count": null
        },
        {
            "cell_type": "markdown",
            "source": [
                "![Results](./Images/temporal-8_orig.png \"Results\")"
            ],
            "metadata": {
                "azdata_cell_guid": "4d4adbe5-f4fd-4577-8d26-43816b3d22b7"
            }
        },
        {
            "cell_type": "markdown",
            "source": [
                "But what do you do if you do not have a maintenance window, and need to have 5 9's up-time? If that is the case, then maybe temporal tables are not for you, and other methods change capture is more appropriate.\r\n",
                "\r\n",
                "​​Happy SQLing!"
            ],
            "metadata": {
                "azdata_cell_guid": "8fe5beb0-ffaa-478c-b88e-f1ff4393764f"
            }
        }
    ]
}