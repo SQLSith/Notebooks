{
    "metadata": {
        "kernelspec": {
            "name": "SQL",
            "display_name": "SQL",
            "language": "sql"
        },
        "language_info": {
            "name": "sql",
            "version": ""
        }
    },
    "nbformat_minor": 2,
    "nbformat": 4,
    "cells": [
        {
            "cell_type": "markdown",
            "source": [
                "# JSON - Quick Start Guide\r\n",
                "\r\n",
                "JSON is very similar to XML; It is a form of text notation designed for data exchange. JSON has one big advantage over XML; it is significantly more compact than XML. Whilst JSON is not a new technology, the inclusion of tools to handle JSON in SQL Server were only introduced in SQL 2016.\r\n",
                "\r\n",
                "## The Basics of JSON\r\n",
                "\r\n",
                "Below is the sample of JSON that I will be using in all of my examples:\r\n",
                "\r\n",
                "![JSON](./Images/json_orig.png \"JSON\")\r\n",
                "\r\n",
                "JSON is made up of objects, which are collections of key value pairs encased in a curly braces, { and }. Each key value pair is formatted as a key, in double quotes, followed by a colon, followed by the value. Values can be strings, numbers, Boolean values, Null values, other objects, or arrays. Arrays are collections of objects or values encased on square brackets and separated by commas.\r\n",
                "\r\n",
                "JSON represents a data hierarchy, whereby everything within an object belongs to that instance of the object. For example, in the above example there are 2 objects within the teams array, each containing an array of players that belong specifically to that team."
            ],
            "metadata": {
                "azdata_cell_guid": "4509e71f-b2f2-4155-97d9-974c98c3296e"
            }
        },
        {
            "cell_type": "markdown",
            "source": [
                "## JSON in SQL\r\n",
                "\r\n",
                "Unlike XML; JSON does not have its own datatype within SQL Server, instead JSON is treated as an nvarchar(max). This means that, unlike XML, the validity of JSON within a string is not automatically enforced. Thankfully Microsoft have provided a function to validate JSON; ISJSON, which returns a 1 for valid and 0 for invalid. \r\n",
                "\r\n",
                "Give this a try:\r\n",
                ""
            ],
            "metadata": {
                "azdata_cell_guid": "16a90c4e-31b1-4676-9e5c-f2d2f27f4fd9"
            }
        },
        {
            "cell_type": "code",
            "source": [
                "DECLARE @json NVARCHAR(4000)\r\n",
                "SET @json = \r\n",
                "N'{\r\n",
                "   \"teams\":[{\"name\":\"Bradford Bulls\",\r\n",
                "                       \"Players\":[{\"number\":1, \"name\":\"Lee Smith\", \"position\":\"Centre\"},\r\n",
                "                                            {\"number\":2, \"name\":\"Ethan Ryan\", \"position\":\"Winger\"} \r\n",
                "                                            ]\r\n",
                "                     },\r\n",
                "                    {\"name\":\"Keighley Cougars\",\r\n",
                "                     \"Players\":[{\"number\":1, \"name\":\"Ritchie Hawkyard\", \"position\":\"Fullback\"},\r\n",
                "                                           {\"number\":2, \"name\":\"Andy Gabriel\", \"position\":\"Winger\"} \r\n",
                "                                         ]\r\n",
                "                  }]\r\n",
                "  }'\r\n",
                "\r\n",
                "Select ISJSON(@json)"
            ],
            "metadata": {
                "azdata_cell_guid": "a9e6528c-6eeb-49bf-a0bf-a57209828a84",
                "tags": [
                    "hide_input"
                ]
            },
            "outputs": [],
            "execution_count": null
        },
        {
            "cell_type": "markdown",
            "source": [
                "SSMS does not currently offer formatting of JSON results, as it does with XML, and so I am using Visual Studio Code to format JSON samples.\r\n",
                "\r\n",
                "There are a number of functions for interacting with JSON, but I'm going to concentrate on just one; OPENJSON."
            ],
            "metadata": {
                "azdata_cell_guid": "a09e593f-4016-4bb7-84e2-2e45ed1964a8"
            }
        },
        {
            "cell_type": "markdown",
            "source": [
                "## Querying JSON with OPENJSON\r\n",
                "\r\n",
                "OPENJSON is a table value function taking 2 parameters; a JSON expression, and an optional path. Without a specified path OPENJSON will return the key, value and type of all top level objects:\r\n",
                "\r\n",
                "```\r\n",
                "​Select *\r\n",
                "from OpenJSON(@json)\r\n",
                "```\r\n",
                "\r\n",
                "![JSON](./Images/openjson-1_orig.png \"JSON\")\r\n",
                "\r\n",
                "Give this a go:\r\n",
                ""
            ],
            "metadata": {
                "azdata_cell_guid": "f2b7552f-2ad4-4758-8a5b-b86f2c1c5184"
            }
        },
        {
            "cell_type": "code",
            "source": [
                "DECLARE @json NVARCHAR(4000)\r\n",
                "SET @json = \r\n",
                "N'{\r\n",
                "   \"teams\":[{\"name\":\"Bradford Bulls\",\r\n",
                "                       \"Players\":[{\"number\":1, \"name\":\"Lee Smith\", \"position\":\"Centre\"},\r\n",
                "                                            {\"number\":2, \"name\":\"Ethan Ryan\", \"position\":\"Winger\"} \r\n",
                "                                            ]\r\n",
                "                     },\r\n",
                "                    {\"name\":\"Keighley Cougars\",\r\n",
                "                     \"Players\":[{\"number\":1, \"name\":\"Ritchie Hawkyard\", \"position\":\"Fullback\"},\r\n",
                "                                           {\"number\":2, \"name\":\"Andy Gabriel\", \"position\":\"Winger\"} \r\n",
                "                                         ]\r\n",
                "                  }]\r\n",
                "  }'\r\n",
                "\r\n",
                "Select *\r\n",
                "from OpenJSON(@json)"
            ],
            "metadata": {
                "azdata_cell_guid": "a57372f9-505c-4807-849d-276773fea626",
                "tags": [
                    "hide_input"
                ]
            },
            "outputs": [],
            "execution_count": null
        },
        {
            "cell_type": "markdown",
            "source": [
                "The Type values are:​\r\n",
                "  0. Null\r\n",
                "  1. String\r\n",
                "  2. Int\r\n",
                "  3. Boolean - True/False\r\n",
                "  4. Array\r\n",
                "​  5. Object\r\n",
                "\r\n",
                "Specifying a path parameter allows you to specify which part of the JSON you are querying. JSON paths are similar to XML paths, in that they are the sequence of objects through which you need to navigate to get to the object that you are interested in. Unlike XML the path is separated by periods (.) rather than slashes. When querying an array you need to specify which object within the array you are referencing by specifying the position number of the relevant item in square brackets. Array positions are zero based, so the first item will be position 0, the second position 1, etc. The following example returns all data from the second player, from the second team:\r\n",
                "​\r\n",
                "```\r\n",
                "Select *\r\n",
                "from OpenJSON(@json, '$.teams[1].Players[1]')\r\n",
                "```\r\n",
                "\r\n",
                "![JSON](./Images/openjson-2_orig.png \"JSON\")\r\n",
                "\r\n",
                "\r\n",
                "Give this a go:"
            ],
            "metadata": {
                "azdata_cell_guid": "d90df502-d409-4c75-999a-176a9193934b"
            }
        },
        {
            "cell_type": "code",
            "source": [
                "DECLARE @json NVARCHAR(4000)\r\n",
                "SET @json = \r\n",
                "N'{\r\n",
                "   \"teams\":[{\"name\":\"Bradford Bulls\",\r\n",
                "                       \"Players\":[{\"number\":1, \"name\":\"Lee Smith\", \"position\":\"Centre\"},\r\n",
                "                                            {\"number\":2, \"name\":\"Ethan Ryan\", \"position\":\"Winger\"} \r\n",
                "                                            ]\r\n",
                "                     },\r\n",
                "                    {\"name\":\"Keighley Cougars\",\r\n",
                "                     \"Players\":[{\"number\":1, \"name\":\"Ritchie Hawkyard\", \"position\":\"Fullback\"},\r\n",
                "                                           {\"number\":2, \"name\":\"Andy Gabriel\", \"position\":\"Winger\"} \r\n",
                "                                         ]\r\n",
                "                  }]\r\n",
                "  }'\r\n",
                "\r\n",
                "Select *\r\n",
                "from OpenJSON(@json, '$.teams[1].Players[1]')"
            ],
            "metadata": {
                "azdata_cell_guid": "b689783b-bc65-4a97-b3a6-0c782417628f",
                "tags": [
                    "hide_input"
                ]
            },
            "outputs": [],
            "execution_count": null
        },
        {
            "cell_type": "markdown",
            "source": [
                "Whilst the above queries are fine for visualising data from JSON, you are generally not interested in the key and type of your data. What you want is a query akin to a query against a table. A query where each value is held within its own field. Adding a WITH statement allows us to define those fields...\r\n",
                "\r\n",
                "```\r\n",
                "​Select  name, number, position\r\n",
                "from    OpenJSON(@json,'$.teams[1].Players[1]')\r\n",
                "With    (\r\n",
                "        number int,\r\n",
                "        name varchar(50),\r\n",
                "        position varchar(50)\r\n",
                "        )\r\n",
                "```\r\n",
                "\r\n",
                "![JSON](./Images/openjson-3_orig.png \"JSON\")\r\n",
                "\r\n",
                "Give this a go:\r\n",
                ""
            ],
            "metadata": {
                "azdata_cell_guid": "f084e8ac-8235-4399-b210-897205ec1cf4"
            }
        },
        {
            "cell_type": "code",
            "source": [
                "DECLARE @json NVARCHAR(4000)\r\n",
                "SET @json = \r\n",
                "N'{\r\n",
                "   \"teams\":[{\"name\":\"Bradford Bulls\",\r\n",
                "                       \"Players\":[{\"number\":1, \"name\":\"Lee Smith\", \"position\":\"Centre\"},\r\n",
                "                                            {\"number\":2, \"name\":\"Ethan Ryan\", \"position\":\"Winger\"} \r\n",
                "                                            ]\r\n",
                "                     },\r\n",
                "                    {\"name\":\"Keighley Cougars\",\r\n",
                "                     \"Players\":[{\"number\":1, \"name\":\"Ritchie Hawkyard\", \"position\":\"Fullback\"},\r\n",
                "                                           {\"number\":2, \"name\":\"Andy Gabriel\", \"position\":\"Winger\"} \r\n",
                "                                         ]\r\n",
                "                  }]\r\n",
                "  }'\r\n",
                "\r\n",
                "​Select  name, number, position\r\n",
                "from    OpenJSON(@json,'$.teams[1].Players[1]')\r\n",
                "With   (\r\n",
                "        number int,\r\n",
                "        name varchar(50),\r\n",
                "        position varchar(50)\r\n",
                "        )"
            ],
            "metadata": {
                "azdata_cell_guid": "ebac81ea-a4fc-4687-8860-b8e4b61617fd",
                "tags": [
                    "hide_input"
                ]
            },
            "outputs": [],
            "execution_count": null
        },
        {
            "cell_type": "markdown",
            "source": [
                "By default the field names that you specify in the WITH statement have to match the key values from the JSON. However; by specifying a JSON path within the field definitions you can specify which key value you want to return. The following example returns the data relating to the first player from the first team, but specifies JSON paths to allow renaming of the resulting fields:\r\n",
                "\r\n",
                "```\r\n",
                "Select  PlayerName, SquadNumber, Position\r\n",
                "from    OpenJSON(@json,'$.teams[0].Players[0]')\r\n",
                "With    (\r\n",
                "        SquadNumber int '$.number',\r\n",
                "        PlayerName varchar(50) '$.name',\r\n",
                "        Position varchar(50) '$.position'\r\n",
                "        )\r\n",
                "```\r\n",
                "\r\n",
                "![JSON](./Images/openjson-4_orig.png \"JSON\")\r\n",
                "\r\n",
                "Give this a go:"
            ],
            "metadata": {
                "azdata_cell_guid": "99344c57-2d35-493c-af8f-c1755a05255e"
            }
        },
        {
            "cell_type": "code",
            "source": [
                "DECLARE @json NVARCHAR(4000)\r\n",
                "SET @json = \r\n",
                "N'{\r\n",
                "   \"teams\":[{\"name\":\"Bradford Bulls\",\r\n",
                "                       \"Players\":[{\"number\":1, \"name\":\"Lee Smith\", \"position\":\"Centre\"},\r\n",
                "                                            {\"number\":2, \"name\":\"Ethan Ryan\", \"position\":\"Winger\"} \r\n",
                "                                            ]\r\n",
                "                     },\r\n",
                "                    {\"name\":\"Keighley Cougars\",\r\n",
                "                     \"Players\":[{\"number\":1, \"name\":\"Ritchie Hawkyard\", \"position\":\"Fullback\"},\r\n",
                "                                           {\"number\":2, \"name\":\"Andy Gabriel\", \"position\":\"Winger\"} \r\n",
                "                                         ]\r\n",
                "                  }]\r\n",
                "  }'\r\n",
                "\r\n",
                "Select  PlayerName, SquadNumber, Position\r\n",
                "from    OpenJSON(@json,'$.teams[0].Players[0]')\r\n",
                "With    (\r\n",
                "        SquadNumber int '$.number',\r\n",
                "        PlayerName varchar(50) '$.name',\r\n",
                "        Position varchar(50) '$.position'\r\n",
                "        )\r\n",
                ""
            ],
            "metadata": {
                "azdata_cell_guid": "7e938f17-a1fd-4ff5-a85e-14d51a69e15e",
                "tags": [
                    "hide_input"
                ]
            },
            "outputs": [],
            "execution_count": null
        },
        {
            "cell_type": "markdown",
            "source": [
                "Obviously, this method of extracting data is very limited, and would be unworkable if the JSON contained 100 players rather than just 4. Thankfully there is another method which allows you to query entire arrays.\r\n",
                "\r\n",
                "The following example lists all players form all teams:\r\n",
                "\r\n",
                "```\r\n",
                "​Select TeamName, SquadNumber, PlayerName, position\r\n",
                "from OpenJSON(@json,'$.teams')\r\n",
                "With (\r\n",
                "     TeamName varchar(50) '$.name',\r\n",
                "     Players NVARCHAR(max) As JSON\r\n",
                "     )\r\n",
                "cross apply OpenJSON(Players)\r\n",
                "With (\r\n",
                "     SquadNumber int '$.number',\r\n",
                "     PlayerName varchar(50) '$.name',\r\n",
                "     position varchar(50)\r\n",
                "     )\r\n",
                "```\r\n",
                "\r\n",
                "![JSON](./Images/openjson-5_orig.png \"JSON\")\r\n",
                "\r\n",
                "Give this a go:"
            ],
            "metadata": {
                "azdata_cell_guid": "46a17493-3155-443d-a5d2-6326d6c8816a"
            }
        },
        {
            "cell_type": "code",
            "source": [
                "DECLARE @json NVARCHAR(4000)\r\n",
                "SET @json = \r\n",
                "N'{\r\n",
                "   \"teams\":[{\"name\":\"Bradford Bulls\",\r\n",
                "                       \"Players\":[{\"number\":1, \"name\":\"Lee Smith\", \"position\":\"Centre\"},\r\n",
                "                                            {\"number\":2, \"name\":\"Ethan Ryan\", \"position\":\"Winger\"} \r\n",
                "                                            ]\r\n",
                "                     },\r\n",
                "                    {\"name\":\"Keighley Cougars\",\r\n",
                "                     \"Players\":[{\"number\":1, \"name\":\"Ritchie Hawkyard\", \"position\":\"Fullback\"},\r\n",
                "                                           {\"number\":2, \"name\":\"Andy Gabriel\", \"position\":\"Winger\"} \r\n",
                "                                         ]\r\n",
                "                  }]\r\n",
                "  }'\r\n",
                "\r\n",
                "​Select TeamName, SquadNumber, PlayerName, position\r\n",
                "from OpenJSON(@json,'$.teams')\r\n",
                "With (\r\n",
                "     TeamName varchar(50) '$.name',\r\n",
                "     Players NVARCHAR(max) As JSON\r\n",
                "     )\r\n",
                "cross apply OpenJSON(Players)\r\n",
                "With (\r\n",
                "     SquadNumber int '$.number',\r\n",
                "     PlayerName varchar(50) '$.name',\r\n",
                "     position varchar(50)\r\n",
                "     )"
            ],
            "metadata": {
                "azdata_cell_guid": "c38a4bb5-225d-4b54-a919-3d7ad8c8156e",
                "tags": [
                    "hide_input"
                ]
            },
            "outputs": [],
            "execution_count": null
        },
        {
            "cell_type": "markdown",
            "source": [
                "In this example we have one OPENJSON statement which exposes the teams array, and defines 2 fields; the team name, and the players array. The players array is defined as an nvarchar(max) data type, and the addition of the As JSON clause allows us to query this field with a second OPENJSON statement. The second OPENJSON statement exposes the contents of every object within the Player array.\r\n",
                "\r\n",
                "The following example demonstrates querying JSON from  table rather than a variable:\r\n",
                "\r\n",
                "```\r\n",
                "Declare @SquadsTable table ( TestJSON varchar(max))\r\n",
                "\r\n",
                "insert @SquadsTable (TestJSON)\r\n",
                "values (@json)\r\n",
                "\r\n",
                "Select  TeamName, number, PlayerName, position\r\n",
                "from    @SquadsTable\r\n",
                "cross apply OpenJSON(TestJSON,'$.teams')\r\n",
                "With    (\r\n",
                "        TeamName varchar(50) '$.name', \r\n",
                "        Players NVARCHAR(max) As JSON\r\n",
                "        )\r\n",
                "cross apply OpenJSON(Players)\r\n",
                "With    (\r\n",
                "        number int,\r\n",
                "        PlayerName varchar(50) '$.name',\r\n",
                "        position varchar(50)\r\n",
                "        )\r\n",
                "```\r\n",
                "\r\n",
                "The results of this query are identical to the prior query."
            ],
            "metadata": {
                "azdata_cell_guid": "7cf7fabe-73ed-4e89-b6dc-e2b8d04f78c7"
            }
        },
        {
            "cell_type": "code",
            "source": [
                "Declare @SquadsTable table ( TestJSON varchar(max))\r\n",
                "\r\n",
                "DECLARE @json NVARCHAR(4000)\r\n",
                "SET @json = \r\n",
                "N'{\r\n",
                "   \"teams\":[{\"name\":\"Bradford Bulls\",\r\n",
                "                       \"Players\":[{\"number\":1, \"name\":\"Lee Smith\", \"position\":\"Centre\"},\r\n",
                "                                            {\"number\":2, \"name\":\"Ethan Ryan\", \"position\":\"Winger\"} \r\n",
                "                                            ]\r\n",
                "                     },\r\n",
                "                    {\"name\":\"Keighley Cougars\",\r\n",
                "                     \"Players\":[{\"number\":1, \"name\":\"Ritchie Hawkyard\", \"position\":\"Fullback\"},\r\n",
                "                                           {\"number\":2, \"name\":\"Andy Gabriel\", \"position\":\"Winger\"} \r\n",
                "                                         ]\r\n",
                "                  }]\r\n",
                "  }'\r\n",
                "\r\n",
                "insert @SquadsTable (TestJSON)\r\n",
                "values (@json)\r\n",
                "\r\n",
                "Select  TeamName, number, PlayerName, position\r\n",
                "from    @SquadsTable\r\n",
                "cross apply OpenJSON(TestJSON,'$.teams')\r\n",
                "With    (\r\n",
                "        TeamName varchar(50) '$.name', \r\n",
                "        Players NVARCHAR(max) As JSON\r\n",
                "        )\r\n",
                "cross apply OpenJSON(Players)\r\n",
                "With    (\r\n",
                "        number int,\r\n",
                "        PlayerName varchar(50) '$.name',\r\n",
                "        position varchar(50)\r\n",
                "        )"
            ],
            "metadata": {
                "azdata_cell_guid": "cc5f5b32-1d04-4b92-8e5d-8cf7f8568447",
                "tags": [
                    "hide_input"
                ]
            },
            "outputs": [],
            "execution_count": null
        },
        {
            "cell_type": "markdown",
            "source": [
                "JSON supports arrays of values, in addition to arrays of objects. The following example demonstrates querying an array of values:\r\n",
                "\r\n",
                "```\r\n",
                "​Select value PlayerName\r\n",
                "FROM OPENJSON(N'{\"Players\":[\"Lee Smith\", \"Ethan Ryan\", \"Ritchie Hawkyard\", \"Andy Gabriel\"]}','$.Players')\r\n",
                "```\r\n",
                "\r\n",
                "![JSON](./Images/openjson-6_orig.png \"JSON\")\r\n",
                "\r\n",
                "Give this a go:"
            ],
            "metadata": {
                "azdata_cell_guid": "ae10ae3b-b0a2-4247-b46b-c7ffaa19dc72"
            }
        },
        {
            "cell_type": "code",
            "source": [
                "​Select  value PlayerName\r\n",
                "FROM    OPENJSON(N'{\"Players\":[\"Lee Smith\", \"Ethan Ryan\", \"Ritchie Hawkyard\", \"Andy Gabriel\"]}','$.Players')"
            ],
            "metadata": {
                "azdata_cell_guid": "0d8f68cf-5d1d-464b-be91-f9455d24510b",
                "tags": [
                    "hide_input"
                ]
            },
            "outputs": [],
            "execution_count": null
        },
        {
            "cell_type": "markdown",
            "source": [
                "## Generating JSON Result Sets\r\n",
                "\r\n",
                "As well was storing and querying JSON, SQL Server can generate JSON from result sets. You do this by adding the FOR JSON keywords to the end of your query. For the demonstration I will use the following table as my source:\r\n",
                "\r\n",
                "```\r\n",
                "Create table #Squad\r\n",
                "(\r\n",
                "TeamName varchar(50),\r\n",
                "SquadNumber int,\r\n",
                "PlayerName varchar(50),\r\n",
                "Position varchar(50)\r\n",
                ")\r\n",
                "\r\n",
                "insert #Squad\r\n",
                "values  ('Bradford Bulls',1,'Lee Smith','Centre'),\r\n",
                "        ('Bradford Bulls',2,'Ethan Ryan','Winger'),\r\n",
                "        ('Keighley Cougars',1,'Ritchie Hawkyard','Fullback'),\r\n",
                "        ('Keighley Cougars',2,'Andy Gabriel','Winger')\r\n",
                "```\r\n",
                "\r\n",
                "The following code demonstrates creating a simple JSON document:\r\n",
                "\r\n",
                "```\r\n",
                "Select  *\r\n",
                "from    #Squad\r\n",
                "FOR JSON Auto\r\n",
                "```\r\n",
                "\r\n",
                "![JSON](./Images/for-json-2_orig.png \"JSON\")\r\n",
                "\r\n",
                "Give this a go:"
            ],
            "metadata": {
                "azdata_cell_guid": "13a87594-22ba-44f6-b868-7c28d80d5ac3"
            }
        },
        {
            "cell_type": "code",
            "source": [
                "Create table #Squad\r\n",
                "(\r\n",
                "TeamName varchar(50),\r\n",
                "SquadNumber int,\r\n",
                "PlayerName varchar(50),\r\n",
                "Position varchar(50)\r\n",
                ")\r\n",
                "\r\n",
                "insert #Squad\r\n",
                "values  ('Bradford Bulls',1,'Lee Smith','Centre'),\r\n",
                "        ('Bradford Bulls',2,'Ethan Ryan','Winger'),\r\n",
                "        ('Keighley Cougars',1,'Ritchie Hawkyard','Fullback'),\r\n",
                "        ('Keighley Cougars',2,'Andy Gabriel','Winger')\r\n",
                "\r\n",
                "Select  *\r\n",
                "from    #Squad\r\n",
                "FOR JSON Auto\r\n",
                ";\r\n",
                "\r\n",
                "Drop Table #Squad\r\n",
                ";"
            ],
            "metadata": {
                "azdata_cell_guid": "459b7d05-c717-4d6c-ab18-762a17bf6bb9",
                "tags": [
                    "hide_input"
                ]
            },
            "outputs": [],
            "execution_count": null
        },
        {
            "cell_type": "markdown",
            "source": [
                "When the Auto keyword is specified you will have no control over the formatting of the JSON. The JSON will be created as a single array of objects, with no hierarchy.\r\n",
                "\r\n",
                "The following example uses the Path keyword instead of Auto. This allows you far more control over the formatting of the JSON. Firstly I am specifying a root object, teams, to contain our array:\r\n",
                "\r\n",
                "```\r\n",
                "Select  *\r\n",
                "from    #Squad\r\n",
                "FOR JSON Path, Root('teams')\r\n",
                "```\r\n",
                "\r\n",
                "![JSON](./Images/for-json-1_orig.png \"JSON\")\r\n",
                ""
            ],
            "metadata": {
                "azdata_cell_guid": "1afca5b1-b692-4264-9f6d-f3bcca11b99a"
            }
        },
        {
            "cell_type": "code",
            "source": [
                "Create table #Squad\r\n",
                "(\r\n",
                "TeamName varchar(50),\r\n",
                "SquadNumber int,\r\n",
                "PlayerName varchar(50),\r\n",
                "Position varchar(50)\r\n",
                ")\r\n",
                "\r\n",
                "insert #Squad\r\n",
                "values  ('Bradford Bulls',1,'Lee Smith','Centre'),\r\n",
                "        ('Bradford Bulls',2,'Ethan Ryan','Winger'),\r\n",
                "        ('Keighley Cougars',1,'Ritchie Hawkyard','Fullback'),\r\n",
                "        ('Keighley Cougars',2,'Andy Gabriel','Winger')\r\n",
                ";\r\n",
                "\r\n",
                "Select  *\r\n",
                "from    #Squad\r\n",
                "FOR JSON Path, Root('teams')\r\n",
                ";\r\n",
                "\r\n",
                "Drop Table #Squad\r\n",
                ";"
            ],
            "metadata": {
                "azdata_cell_guid": "b050afc5-88cb-4097-ab3d-ff147e25279b",
                "tags": [
                    "hide_input"
                ]
            },
            "outputs": [],
            "execution_count": null
        },
        {
            "cell_type": "markdown",
            "source": [
                "To produce the JSON from my original sample we need to create nested JSON. Nesting involves defining correlated sub queries to  define each array.\r\n",
                "\r\n",
                "```\r\n",
                "Select  TeamName as 'name',\r\n",
                "        (            \r\n",
                "        Select  SquadNumber as 'number',\r\n",
                "                PlayerName as 'name',\r\n",
                "                Position as 'position'\r\n",
                "        from    #Squad p\r\n",
                "        where   TeamName = s.TeamName\r\n",
                "        for JSON Path\r\n",
                "        ) Players\r\n",
                "from    (\r\n",
                "        Select  distinct  TeamName\r\n",
                "        from    #Squad\r\n",
                "        ) s\r\n",
                "for JSON Path, Root('teams')\r\n",
                "```\r\n",
                "\r\n",
                "In this example I want each team to appear only once rather than be duplicated, so I am using an inline view to start with a distinct list of teams. This list has a defined Root (teams). Within each team we have a sub-query which defines an array of players.\r\n",
                "\r\n",
                "![JSON](./Images/json-1_orig.png \"JSON\")\r\n",
                ""
            ],
            "metadata": {
                "azdata_cell_guid": "46f3f9c4-109a-4127-9692-d0a68c7549f3"
            }
        },
        {
            "cell_type": "code",
            "source": [
                "Create table #Squad\r\n",
                "(\r\n",
                "TeamName varchar(50),\r\n",
                "SquadNumber int,\r\n",
                "PlayerName varchar(50),\r\n",
                "Position varchar(50)\r\n",
                ")\r\n",
                "\r\n",
                "insert #Squad\r\n",
                "values  ('Bradford Bulls',1,'Lee Smith','Centre'),\r\n",
                "        ('Bradford Bulls',2,'Ethan Ryan','Winger'),\r\n",
                "        ('Keighley Cougars',1,'Ritchie Hawkyard','Fullback'),\r\n",
                "        ('Keighley Cougars',2,'Andy Gabriel','Winger')\r\n",
                ";\r\n",
                "\r\n",
                "Select  TeamName as 'name',\r\n",
                "        (            \r\n",
                "        Select  SquadNumber as 'number',\r\n",
                "                PlayerName as 'name',\r\n",
                "                Position as 'position'\r\n",
                "        from    #Squad p\r\n",
                "        where   TeamName = s.TeamName\r\n",
                "        for JSON Path\r\n",
                "        ) Players\r\n",
                "from    (\r\n",
                "        Select  distinct  TeamName\r\n",
                "        from    #Squad\r\n",
                "        ) s\r\n",
                "for JSON Path, Root('teams')\r\n",
                ";\r\n",
                "\r\n",
                "Drop Table #Squad\r\n",
                ";\r\n",
                ""
            ],
            "metadata": {
                "azdata_cell_guid": "0eb3acd1-5d97-4318-9c0f-d28e59d15372",
                "tags": [
                    "hide_input"
                ]
            },
            "outputs": [],
            "execution_count": null
        }
    ]
}