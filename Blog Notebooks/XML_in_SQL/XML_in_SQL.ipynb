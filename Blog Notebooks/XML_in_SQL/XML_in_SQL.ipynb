{
    "metadata": {
        "kernelspec": {
            "name": "SQL",
            "display_name": "SQL",
            "language": "sql"
        },
        "language_info": {
            "name": "sql",
            "version": ""
        }
    },
    "nbformat_minor": 2,
    "nbformat": 4,
    "cells": [
        {
            "cell_type": "markdown",
            "source": [
                "# XML - Quick Start Guide"
            ],
            "metadata": {
                "azdata_cell_guid": "c3b27ee3-899e-4bd3-893e-ca779ac6bfa2"
            }
        },
        {
            "cell_type": "markdown",
            "source": [
                "This is nothing new, but is an area that still mystifies many database professional. After a recent discussion on the use of XML for data exchange between database and application, I thought I would try write a quick start guide on the use of XML with SQL Server.\r\n",
                "\r\n",
                "I plan for this to be a living document, as it is a big subject and I am unlikely to think of everything first time, so please feel free to comment."
            ],
            "metadata": {
                "azdata_cell_guid": "e20778bf-8375-4df4-a4c6-c7553e97f60c"
            }
        },
        {
            "cell_type": "markdown",
            "source": [
                "## The Basics of XML"
            ],
            "metadata": {
                "azdata_cell_guid": "60b8462e-62c7-4dff-b8bb-d9110bf586d5"
            }
        },
        {
            "cell_type": "markdown",
            "source": [
                "XML is a type of text file that is designed to hold, and describe, data to be used by machines, whilst also being human readable. Below is the sample of XML which I will be using in all my examples:\r\n",
                "\r\n",
                "![XML](./Images/xml_orig.png \"XML\")\r\n",
                "\r\n",
                "XML uses Tags which are named tokens encased in a < and >. Tags are generally present in pairs, with a start tag (<example>) and an end tag (</example>). \r\n",
                "\r\n",
                "An Element is a pair of matching tags and their contents, which can include data and/or other elements. For example; the <Player> element in the above image contains a <name> and a <position> element. The <name> element, on the other hand, only contains data; the value 'Lee Smith'. If an element has no contents, it can be represented by a single tag element, such as <example />. The Root element is a special element which encases the entire XML document.\r\n",
                "\r\n",
                "Attributes are name value pairs that describe an element, such as the number attribute within the <Player> element. Attributes can only exist within start or empty element tags.\r\n",
                "\r\n",
                "XML represents a data hierarchy, whereby everything within an element belongs to that instance of the element. For example, in the above example there are 2 <team> elements, each containing a list of players that belong specifically to that team."
            ],
            "metadata": {
                "azdata_cell_guid": "90c8d622-d7c9-46ff-ae6e-f099406bb206"
            }
        },
        {
            "cell_type": "markdown",
            "source": [
                "## XML in SQL"
            ],
            "metadata": {
                "azdata_cell_guid": "9d55257e-e371-499e-930f-25a22e343875"
            }
        },
        {
            "cell_type": "markdown",
            "source": [
                "The XML datatype was introduced in SQL 2008. It is basically the nvarchar(max) type, but can only hold valid XML, and exposes a number of XML specific functions. Like other types, XML can be used for both data fields and variables."
            ],
            "metadata": {
                "azdata_cell_guid": "ed344168-5b63-4eb6-a81f-1be2960fdff9"
            }
        },
        {
            "cell_type": "markdown",
            "source": [
                "## Querying XML"
            ],
            "metadata": {
                "azdata_cell_guid": "85a60ab3-400d-4be2-a3d2-548b69e50fe0"
            }
        },
        {
            "cell_type": "markdown",
            "source": [
                "XML variables can be used to hold, and interact with, a single XML document. The following code demonstrates the declaring and populating of an XML variable."
            ],
            "metadata": {
                "azdata_cell_guid": "47bc499e-e367-4b3d-ab06-bfcb074be5a2"
            }
        },
        {
            "cell_type": "markdown",
            "source": [
                "``` Declare @Squads xml\r\n",
                "\r\n",
                "Select @Squads = \r\n",
                "'<teams>\r\n",
                "  <team name=\"Bradford Bulls\">\r\n",
                "    <Players>\r\n",
                "      <Player number=\"1\">\r\n",
                "        <name>Lee Smith</name>\r\n",
                "        <position>Centre</position>\r\n",
                "      </Player>\r\n",
                "      <Player number=\"2\">\r\n",
                "        <name>Ethan Ryan</name>\r\n",
                "        <position>Winger</position>\r\n",
                "      </Player>\r\n",
                "    </Players>\r\n",
                "  </team>\r\n",
                "  <team name=\"Keighley Cougars\">\r\n",
                "    <Players>\r\n",
                "      <Player number=\"1\">\r\n",
                "        <name>Ritchie Hawkyard</name>\r\n",
                "        <position>Fullback</position>\r\n",
                "      </Player>\r\n",
                "      <Player number=\"2\">\r\n",
                "        <name>Andy Gabriel</name>\r\n",
                "        <position>Winger</position>\r\n",
                "      </Player>\r\n",
                "    </Players>\r\n",
                "  </team>\r\n",
                "</teams>\r\n",
                "' ```\r\n",
                ""
            ],
            "metadata": {
                "azdata_cell_guid": "bd6a2882-769d-47cf-9744-7ae7d6b6acf2",
                "tags": []
            }
        },
        {
            "cell_type": "markdown",
            "source": [
                "You can view the contents of an XML variable with a simple select statement, just like with any other data type. However; the XML will be presented as a single line hyperlink which, if clicked on, opens up the formatted document in a new SSMS tab.\r\n",
                "\r\n",
                "SQL Server provides several functions for accessing data within the XML documents. Unfortunately these functions look nothing like standard SQL, which is part of the reason why they tend to scare people. Data can be selected from an XML document by using the value function, which requires 2 parameters; an address and a datatype for the result. The address denotes the sequence of Elements, working from the outside in, through which you will pass to get to the value that you want. For example:"
            ],
            "metadata": {
                "azdata_cell_guid": "2221e1cc-5dfa-44f4-a60c-079e538e4e61"
            }
        },
        {
            "cell_type": "markdown",
            "source": [
                "```\r\n",
                "Select @Squads.value('(teams/team/Players/Player/@number)[1]', 'int') SquadNumber,\r\n",
                "             @Squads.value('(teams/team/Players/Player/name)[1]', 'varchar(50)') PlayerName,\r\n",
                "             @Squads.value('(teams/team/Players/Player/position)[1]', 'varchar(50)') Position\r\n",
                "\r\n",
                "Select @Squads.value('(teams/team/Players/Player/@number)[2]', 'int') SquadNumber,\r\n",
                "             @Squads.value('(teams/team/Players/Player/name)[2]', 'varchar(50)') PlayerName,\r\n",
                "             @Squads.value('(teams/team/Players/Player/position)[2]', 'varchar(50)') Position\r\n",
                "```\r\n",
                "\r\n",
                "Give this a try by running the below code block:"
            ],
            "metadata": {
                "azdata_cell_guid": "77a2fd78-1c32-467b-b3df-a253dd05bc80"
            }
        },
        {
            "cell_type": "code",
            "source": [
                "Declare @Squads xml\r\n",
                "\r\n",
                "Select @Squads = \r\n",
                "'<teams>\r\n",
                "  <team name=\"Bradford Bulls\">\r\n",
                "    <Players>\r\n",
                "      <Player number=\"1\">\r\n",
                "        <name>Lee Smith</name>\r\n",
                "        <position>Centre</position>\r\n",
                "      </Player>\r\n",
                "      <Player number=\"2\">\r\n",
                "        <name>Ethan Ryan</name>\r\n",
                "        <position>Winger</position>\r\n",
                "      </Player>\r\n",
                "    </Players>\r\n",
                "  </team>\r\n",
                "  <team name=\"Keighley Cougars\">\r\n",
                "    <Players>\r\n",
                "      <Player number=\"1\">\r\n",
                "        <name>Ritchie Hawkyard</name>\r\n",
                "        <position>Fullback</position>\r\n",
                "      </Player>\r\n",
                "      <Player number=\"2\">\r\n",
                "        <name>Andy Gabriel</name>\r\n",
                "        <position>Winger</position>\r\n",
                "      </Player>\r\n",
                "    </Players>\r\n",
                "  </team>\r\n",
                "</teams>\r\n",
                "'\r\n",
                "\r\n",
                "Select @Squads.value('(teams/team/Players/Player/@number)[1]', 'int') SquadNumber,\r\n",
                "             @Squads.value('(teams/team/Players/Player/name)[1]', 'varchar(50)') PlayerName,\r\n",
                "             @Squads.value('(teams/team/Players/Player/position)[1]', 'varchar(50)') Position\r\n",
                "\r\n",
                "Select @Squads.value('(teams/team/Players/Player/@number)[2]', 'int') SquadNumber,\r\n",
                "             @Squads.value('(teams/team/Players/Player/name)[2]', 'varchar(50)') PlayerName,\r\n",
                "             @Squads.value('(teams/team/Players/Player/position)[2]', 'varchar(50)') Position"
            ],
            "metadata": {
                "azdata_cell_guid": "ba569c73-f3b6-4a78-8be7-2dfd586138ef",
                "tags": [
                    "hide_input"
                ]
            },
            "outputs": [],
            "execution_count": null
        },
        {
            "cell_type": "markdown",
            "source": [
                "In this snippet we are returning details of the first 2 players in the document, with the number in square brackets at the end of the address allowing us to specify which particular instance of a player that we are interested in. It is worth noting that even if there is only one value matching the address, you must stipulate that it is the first, [1], instance that you are interested in. When we are returning the value from within an element we address the name of the element (name and position in the above example), whereas when we want to return the value of an attribute prefix the name of the attribute with @ (@number in the above example).\r\n",
                "\r\n",
                "Obviously, this method of extracting data is very limited, and would be unworkable if the document contained 100 players rather than just 4. Thankfully there is another method which allows you to define collections of sub-documents, or nodes,  which can be queried as a set.\r\n",
                "\r\n",
                "The following snippet returns a full list of all the players:\r\n",
                "\r\n",
                "```\r\n",
                "Select    player.value('(../../@name)[1]', 'varchar(50)') TeamName, \r\n",
                "          player.value('(@number)[1]', 'int') SquadNumber,\r\n",
                "          player.value('(name)[1]', 'varchar(50)') PlayerName,\r\n",
                "          player.value('(position)[1]', 'varchar(50)') Position\r\n",
                "from      @Squads.nodes('/teams/team/Players/Player') players(player) \r\n",
                "```\r\n",
                "\r\n",
                "Give this a try by running the below code block:\r\n",
                ""
            ],
            "metadata": {
                "azdata_cell_guid": "30dab7b6-5ace-4eef-87a3-2a8700756c92"
            }
        },
        {
            "cell_type": "code",
            "source": [
                "Declare @Squads xml\r\n",
                "\r\n",
                "Select @Squads = \r\n",
                "'<teams>\r\n",
                "  <team name=\"Bradford Bulls\">\r\n",
                "    <Players>\r\n",
                "      <Player number=\"1\">\r\n",
                "        <name>Lee Smith</name>\r\n",
                "        <position>Centre</position>\r\n",
                "      </Player>\r\n",
                "      <Player number=\"2\">\r\n",
                "        <name>Ethan Ryan</name>\r\n",
                "        <position>Winger</position>\r\n",
                "      </Player>\r\n",
                "    </Players>\r\n",
                "  </team>\r\n",
                "  <team name=\"Keighley Cougars\">\r\n",
                "    <Players>\r\n",
                "      <Player number=\"1\">\r\n",
                "        <name>Ritchie Hawkyard</name>\r\n",
                "        <position>Fullback</position>\r\n",
                "      </Player>\r\n",
                "      <Player number=\"2\">\r\n",
                "        <name>Andy Gabriel</name>\r\n",
                "        <position>Winger</position>\r\n",
                "      </Player>\r\n",
                "    </Players>\r\n",
                "  </team>\r\n",
                "</teams>\r\n",
                "'\r\n",
                "\r\n",
                "Select    player.value('(../../@name)[1]', 'varchar(50)') TeamName, \r\n",
                "          player.value('(@number)[1]', 'int') SquadNumber,\r\n",
                "          player.value('(name)[1]', 'varchar(50)') PlayerName,\r\n",
                "          player.value('(position)[1]', 'varchar(50)') Position\r\n",
                "from      @Squads.nodes('/teams/team/Players/Player') players(player) "
            ],
            "metadata": {
                "azdata_cell_guid": "2cfccbf3-155a-41be-953f-9744cee806de",
                "tags": [
                    "hide_input"
                ]
            },
            "outputs": [],
            "execution_count": null
        },
        {
            "cell_type": "markdown",
            "source": [
                "The nodes function defines an address, from which every matching element, and its contents, will be extracted as a sub-document. The part at the end of the From statement defines a virtual table to represent the nodes, in this case a players table containing a player field, of type XML. In the above example there are 4 <Player> elements returned. The value functions, in this case, address items within the sub documents, not the original document. For the TeamName I have addressed the special .. operator, which allows me to step up levels to query the @name attribute of the <team> element.\r\n",
                "\r\n",
                "It is even possible to define nodes based on other nodes. In the following example I extract a collection of teams, and from that collection extract a collection of players. "
            ],
            "metadata": {
                "azdata_cell_guid": "e7c566b5-58de-457c-84a6-f41354dc6f6c"
            }
        },
        {
            "cell_type": "markdown",
            "source": [
                "``` \r\n",
                "Select team.value('(@name)[1]', 'varchar(50)') TeamName,\r\n",
                "       player.value('(@number)[1]', 'int') SquadNumber,\r\n",
                "       player.value('(name)[1]', 'varchar(50)') PlayerName,\r\n",
                "       player.value('(position)[1]', 'varchar(50)') Position\r\n",
                "from   @Squads.nodes('/teams/team') teams(team)\r\n",
                "cross apply team.nodes('Players/Player') players(player) \r\n",
                "```\r\n",
                "\r\n",
                "Give this a try by running the below code block:"
            ],
            "metadata": {
                "azdata_cell_guid": "94b581d0-5a2c-4c2e-9201-4e269f56b7b7"
            }
        },
        {
            "cell_type": "code",
            "source": [
                "Declare @Squads xml\r\n",
                "\r\n",
                "Select @Squads = \r\n",
                "'<teams>\r\n",
                "  <team name=\"Bradford Bulls\">\r\n",
                "    <Players>\r\n",
                "      <Player number=\"1\">\r\n",
                "        <name>Lee Smith</name>\r\n",
                "        <position>Centre</position>\r\n",
                "      </Player>\r\n",
                "      <Player number=\"2\">\r\n",
                "        <name>Ethan Ryan</name>\r\n",
                "        <position>Winger</position>\r\n",
                "      </Player>\r\n",
                "    </Players>\r\n",
                "  </team>\r\n",
                "  <team name=\"Keighley Cougars\">\r\n",
                "    <Players>\r\n",
                "      <Player number=\"1\">\r\n",
                "        <name>Ritchie Hawkyard</name>\r\n",
                "        <position>Fullback</position>\r\n",
                "      </Player>\r\n",
                "      <Player number=\"2\">\r\n",
                "        <name>Andy Gabriel</name>\r\n",
                "        <position>Winger</position>\r\n",
                "      </Player>\r\n",
                "    </Players>\r\n",
                "  </team>\r\n",
                "</teams>\r\n",
                "'\r\n",
                "\r\n",
                "Select team.value('(@name)[1]', 'varchar(50)') TeamName,\r\n",
                "       player.value('(@number)[1]', 'int') SquadNumber,\r\n",
                "       player.value('(name)[1]', 'varchar(50)') PlayerName,\r\n",
                "       player.value('(position)[1]', 'varchar(50)') Position\r\n",
                "from   @Squads.nodes('/teams/team') teams(team)\r\n",
                "cross apply team.nodes('Players/Player') players(player) "
            ],
            "metadata": {
                "azdata_cell_guid": "68ace3ed-273d-4b60-b103-29a504365c10",
                "tags": [
                    "hide_input"
                ]
            },
            "outputs": [],
            "execution_count": null
        },
        {
            "cell_type": "markdown",
            "source": [
                "The following example demonstrates querying XML fields rather than variables;"
            ],
            "metadata": {
                "azdata_cell_guid": "b0e1b3c0-8723-47d4-9081-0377808b34d6"
            }
        },
        {
            "cell_type": "code",
            "source": [
                "Declare @Squads xml\r\n",
                "\r\n",
                "Select @Squads = \r\n",
                "'<teams>\r\n",
                "  <team name=\"Bradford Bulls\">\r\n",
                "    <Players>\r\n",
                "      <Player number=\"1\">\r\n",
                "        <name>Lee Smith</name>\r\n",
                "        <position>Centre</position>\r\n",
                "      </Player>\r\n",
                "      <Player number=\"2\">\r\n",
                "        <name>Ethan Ryan</name>\r\n",
                "        <position>Winger</position>\r\n",
                "      </Player>\r\n",
                "    </Players>\r\n",
                "  </team>\r\n",
                "  <team name=\"Keighley Cougars\">\r\n",
                "    <Players>\r\n",
                "      <Player number=\"1\">\r\n",
                "        <name>Ritchie Hawkyard</name>\r\n",
                "        <position>Fullback</position>\r\n",
                "      </Player>\r\n",
                "      <Player number=\"2\">\r\n",
                "        <name>Andy Gabriel</name>\r\n",
                "        <position>Winger</position>\r\n",
                "      </Player>\r\n",
                "    </Players>\r\n",
                "  </team>\r\n",
                "</teams>\r\n",
                "'\r\n",
                "\r\n",
                "\r\n",
                "Declare   @SquadsTable table ( TestXML xml)\r\n",
                "\r\n",
                "insert    @SquadsTable (TestXML)\r\n",
                "values    (@Squads)\r\n",
                "\r\n",
                "Select    team.value('(@name)[1]', 'varchar(50)') TeamName,\r\n",
                "          player.value('(@number)[1]', 'int') SquadNumber,\r\n",
                "          player.value('(name)[1]', 'varchar(50)') PlayerName,\r\n",
                "          player.value('(position)[1]', 'varchar(50)') Position\r\n",
                "from      @SquadsTable\r\n",
                "cross apply TestXML.nodes('/teams/team') teams(team)\r\n",
                "cross apply team.nodes('Players/Player') players(player)"
            ],
            "metadata": {
                "azdata_cell_guid": "cf84d69e-2969-4b4e-8873-62c6993b2f9a",
                "tags": [
                    "hide_input"
                ]
            },
            "outputs": [],
            "execution_count": null
        },
        {
            "cell_type": "markdown",
            "source": [
                "## Generating XML Result Sets"
            ],
            "metadata": {
                "azdata_cell_guid": "1cf50a1d-8ea8-4803-b2fb-1ff84d386a21"
            }
        },
        {
            "cell_type": "markdown",
            "source": [
                "As well was storing and querying XML, SQL Server can generate XML from result sets. You do this by adding the FOR XML keywords to the end of your query. For the demonstration I will use the following table as my source:"
            ],
            "metadata": {
                "azdata_cell_guid": "497be767-5fbd-414a-b19a-5a8572747163"
            }
        },
        {
            "cell_type": "markdown",
            "source": [
                "```\r\n",
                "Create table #Squad\r\n",
                "(\r\n",
                "TeamName varchar(50),\r\n",
                "SquadNumber int,\r\n",
                "PlayerName varchar(50),\r\n",
                "Position varchar(50)\r\n",
                ")\r\n",
                "\r\n",
                "insert #Squad\r\n",
                "values ('Bradford Bulls',1,'Lee Smith','Centre'),\r\n",
                "       ('Bradford Bulls',2,'Ethan Ryan','Winger'),\r\n",
                "       ('Keighley Cougars',1,'Ritchie Hawkyard','Fullback'),\r\n",
                "       ('Keighley Cougars',2,'Andy Gabriel','Winger')\r\n",
                "```"
            ],
            "metadata": {
                "azdata_cell_guid": "6ad24c7b-65c6-4565-bae6-1da1967bfe4a"
            }
        },
        {
            "cell_type": "markdown",
            "source": [
                "My aim is to recreate my original XML document from this table. The following code demonstrates creating a simple XML document:\r\n",
                "\r\n",
                "```\r\n",
                "Select    distinct TeamName as '@name',\r\n",
                "          SquadNumber as 'Players/Player/@number',\r\n",
                "          PlayerName as 'Players/Player/name',\r\n",
                "          Position as 'Players/Player/position'\r\n",
                "from      #Squad\r\n",
                "for XML Path('team'), Root('teams')\r\n",
                "```\r\n",
                "\r\n",
                "Give this a try by running the below code block:"
            ],
            "metadata": {
                "azdata_cell_guid": "13603ebc-de54-4847-a459-2042523c07ce"
            }
        },
        {
            "cell_type": "code",
            "source": [
                "Create table #Squad\r\n",
                "(\r\n",
                "TeamName varchar(50),\r\n",
                "SquadNumber int,\r\n",
                "PlayerName varchar(50),\r\n",
                "Position varchar(50)\r\n",
                ")\r\n",
                "\r\n",
                "insert #Squad\r\n",
                "values ('Bradford Bulls',1,'Lee Smith','Centre'),\r\n",
                "       ('Bradford Bulls',2,'Ethan Ryan','Winger'),\r\n",
                "       ('Keighley Cougars',1,'Ritchie Hawkyard','Fullback'),\r\n",
                "       ('Keighley Cougars',2,'Andy Gabriel','Winger')\r\n",
                ";\r\n",
                "\r\n",
                "Select    distinct TeamName as '@name',\r\n",
                "          SquadNumber as 'Players/Player/@number',\r\n",
                "          PlayerName as 'Players/Player/name',\r\n",
                "          Position as 'Players/Player/position'\r\n",
                "from      #Squad\r\n",
                "for XML Path('team'), Root('teams')\n",
                ";\n",
                "\n",
                "Drop table #Squad"
            ],
            "metadata": {
                "azdata_cell_guid": "8bf79208-a043-4635-aff5-67e1ddbc57a1",
                "tags": [
                    "hide_input"
                ]
            },
            "outputs": [],
            "execution_count": null
        },
        {
            "cell_type": "markdown",
            "source": [
                "The optional Root keyword allows you to define an element to encompass the entire document, and the Path keyword defined a parent element for your fields. Each field is aliased with its address relative to the Path element. You will notice that the resulting XML differs from the original, in that rather than having 1 element per team, there is a matching element encompassing each player. This is still valid XML, and will produce the same results with our example queries, but is not quite what I wanted.\r\n",
                "\r\n",
                "![XML](./Images/xml-2_orig.png \"XML\")\r\n",
                "\r\n",
                "Unfortunately producing the desired XML is not quite so straight forward, as specifying collections of elements, such as players, within a single element requires nesting. Nesting involves defining correlated sub queries to  define each collection.\r\n",
                "\r\n",
                "```\r\n",
                "Select  TeamName as '@name',\r\n",
                "        (       \r\n",
                "        Select  SquadNumber as '@number',\r\n",
                "                (         \r\n",
                "                Select    PlayerName as 'name',\r\n",
                "                            Position as 'position'\r\n",
                "                from      #Squad\r\n",
                "                where     TeamName = p.TeamName\r\n",
                "                and       SquadNumber = p.SquadNumber\r\n",
                "                For XML Path (''), Type\r\n",
                "                )\r\n",
                "        from      #Squad p\r\n",
                "        where     TeamName = s.TeamName\r\n",
                "        for XML Path('Player'), Root('Players'), Type\r\n",
                "        )\r\n",
                "from    (\r\n",
                "        Select distinct  TeamName\r\n",
                "        from   #Squad\r\n",
                "        ) s\r\n",
                "for XML Path('team'), Root('teams')\r\n",
                "```\r\n",
                "\r\n",
                "In this example I want each team to appear only once rather than be duplicated, so I am using an inline view to start with a distinct list of teams. This list has a defined Root (teams) and Path (team) to define the outer 2 elements, and a @name attribute.\r\n",
                "\r\n",
                "Within each team we have a sub-query which defines a collection of squad numbers, with a Root (Players), a Path (Player) and an attribute of @number. You may notice that I am also using the Type keyword, as by default SQL will interpret the sub query as text, and remove the < and > characters as they are not allowed in values. Using the Type keyword forces SQL to treat the value as XML and not modify it.\r\n",
                "\r\n",
                "Within each squad number element we have a sub query defining the player information. This time we do not want to encompass these elements within a parent element, and so I specify an empty string for the path.\r\n",
                "\r\n",
                "![XML](./Images/xml-3_orig.png \"XML\")\r\n",
                "\r\n",
                "Give this a try:\r\n",
                "\r\n",
                "\r\n",
                ""
            ],
            "metadata": {
                "azdata_cell_guid": "36e37eca-ae3f-4e0d-be93-3486541b6906"
            }
        },
        {
            "cell_type": "code",
            "source": [
                "Create table #Squad\r\n",
                "(\r\n",
                "TeamName varchar(50),\r\n",
                "SquadNumber int,\r\n",
                "PlayerName varchar(50),\r\n",
                "Position varchar(50)\r\n",
                ")\r\n",
                "\r\n",
                "insert #Squad\r\n",
                "values ('Bradford Bulls',1,'Lee Smith','Centre'),\r\n",
                "       ('Bradford Bulls',2,'Ethan Ryan','Winger'),\r\n",
                "       ('Keighley Cougars',1,'Ritchie Hawkyard','Fullback'),\r\n",
                "       ('Keighley Cougars',2,'Andy Gabriel','Winger')\r\n",
                ";\r\n",
                "\r\n",
                "Select  TeamName as '@name',\r\n",
                "        (       \r\n",
                "        Select  SquadNumber as '@number',\r\n",
                "                (         \r\n",
                "                Select    PlayerName as 'name',\r\n",
                "                            Position as 'position'\r\n",
                "                from      #Squad\r\n",
                "                where     TeamName = p.TeamName\r\n",
                "                and       SquadNumber = p.SquadNumber\r\n",
                "                For XML Path (''), Type\r\n",
                "                )\r\n",
                "        from      #Squad p\r\n",
                "        where     TeamName = s.TeamName\r\n",
                "        for XML Path('Player'), Root('Players'), Type\r\n",
                "        )\r\n",
                "from    (\r\n",
                "        Select distinct  TeamName\r\n",
                "        from   #Squad\r\n",
                "        ) s\r\n",
                "for XML Path('team'), Root('teams')\r\n",
                ";\n",
                "\n",
                "Drop table #Squad"
            ],
            "metadata": {
                "azdata_cell_guid": "44e38b8e-cb36-4478-86b0-691fda693229",
                "tags": [
                    "hide_input"
                ]
            },
            "outputs": [],
            "execution_count": null
        }
    ]
}