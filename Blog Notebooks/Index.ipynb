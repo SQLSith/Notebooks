{
    "metadata": {
        "kernelspec": {
            "name": "SQL",
            "display_name": "SQL",
            "language": "sql"
        },
        "language_info": {
            "name": "sql",
            "version": ""
        }
    },
    "nbformat_minor": 2,
    "nbformat": 4,
    "cells": [
        {
            "cell_type": "markdown",
            "source": [
                "# Blog Topics\n",
                "\n",
                "## Data markup languages\n",
                "\n",
                "* [JSON in SQL](.\\JSON_in_SQL\\JSON_in_SQL.ipynb)\n",
                "* [XML in SQL](.\\XML_in_SQL\\XML_in_SQL.ipynb)\r\n",
                "\r\n",
                "\n",
                "## Data Versioning\n",
                "\n",
                "* [Temporal Tables (and GDPR)](.\\Temporal_Tables\\Temporal_Tables_And_GDPR.ipynb)\n",
                "* [Temporal Tables - Seeding data](.\\Temporal_Tables\\Seeding_Temporal_Tables.ipynb)"
            ],
            "metadata": {
                "azdata_cell_guid": "2e87b507-d020-4763-b52a-e22b2b1f7c16"
            }
        }
    ]
}