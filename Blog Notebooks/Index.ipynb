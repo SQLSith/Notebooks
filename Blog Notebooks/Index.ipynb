{
    "metadata": {
        "kernelspec": {
            "name": "SQL",
            "display_name": "SQL",
            "language": "sql"
        },
        "language_info": {
            "name": "sql",
            "version": ""
        }
    },
    "nbformat_minor": 2,
    "nbformat": 4,
    "cells": [
        {
            "cell_type": "markdown",
            "source": [
                "# Blog Topics\r\n",
                "\r\n",
                "* [XML in SQL](.\\XML_in_SQL\\XML_in_SQL.ipynb)\r\n",
                "\r\n",
                "* [JSON in SQL](.\\JSON_in_SQL\\JSON_in_SQL.ipynb)"
            ],
            "metadata": {
                "azdata_cell_guid": "2e87b507-d020-4763-b52a-e22b2b1f7c16"
            }
        }
    ]
}